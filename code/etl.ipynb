{
 "cells": [
  {
   "cell_type": "code",
   "execution_count": 2,
   "metadata": {},
   "outputs": [],
   "source": [
    "import pandas as pd\n",
    "import numpy as np\n",
    "import requests\n",
    "import re"
   ]
  },
  {
   "cell_type": "markdown",
   "metadata": {},
   "source": [
    "## Trabajemos en conformar el Dataframe que englobe a los Homicidios-Hechos"
   ]
  },
  {
   "cell_type": "code",
   "execution_count": 76,
   "metadata": {},
   "outputs": [
    {
     "data": {
      "text/html": [
       "<div>\n",
       "<style scoped>\n",
       "    .dataframe tbody tr th:only-of-type {\n",
       "        vertical-align: middle;\n",
       "    }\n",
       "\n",
       "    .dataframe tbody tr th {\n",
       "        vertical-align: top;\n",
       "    }\n",
       "\n",
       "    .dataframe thead th {\n",
       "        text-align: right;\n",
       "    }\n",
       "</style>\n",
       "<table border=\"1\" class=\"dataframe\">\n",
       "  <thead>\n",
       "    <tr style=\"text-align: right;\">\n",
       "      <th></th>\n",
       "      <th>ID</th>\n",
       "      <th>N_VICTIMAS</th>\n",
       "      <th>FECHA</th>\n",
       "      <th>AAAA</th>\n",
       "      <th>MM</th>\n",
       "      <th>DD</th>\n",
       "      <th>HORA</th>\n",
       "      <th>HH</th>\n",
       "      <th>LUGAR_DEL_HECHO</th>\n",
       "      <th>TIPO_DE_CALLE</th>\n",
       "      <th>...</th>\n",
       "      <th>Altura</th>\n",
       "      <th>Cruce</th>\n",
       "      <th>Dirección Normalizada</th>\n",
       "      <th>COMUNA</th>\n",
       "      <th>XY (CABA)</th>\n",
       "      <th>pos x</th>\n",
       "      <th>pos y</th>\n",
       "      <th>PARTICIPANTES</th>\n",
       "      <th>VICTIMA</th>\n",
       "      <th>ACUSADO</th>\n",
       "    </tr>\n",
       "  </thead>\n",
       "  <tbody>\n",
       "    <tr>\n",
       "      <th>0</th>\n",
       "      <td>2016-0001</td>\n",
       "      <td>1</td>\n",
       "      <td>1/1/2016</td>\n",
       "      <td>2016</td>\n",
       "      <td>1</td>\n",
       "      <td>1</td>\n",
       "      <td>4:00:00</td>\n",
       "      <td>4</td>\n",
       "      <td>AV PIEDRA BUENA Y AV FERNANDEZ DE LA CRUZ</td>\n",
       "      <td>AVENIDA</td>\n",
       "      <td>...</td>\n",
       "      <td>NaN</td>\n",
       "      <td>FERNANDEZ DE LA CRUZ, F., GRAL. AV.</td>\n",
       "      <td>PIEDRA BUENA AV. y FERNANDEZ DE LA CRUZ, F., G...</td>\n",
       "      <td>8</td>\n",
       "      <td>Point (98896.78238426 93532.43437792)</td>\n",
       "      <td>-58.47533969</td>\n",
       "      <td>-34.68757022</td>\n",
       "      <td>MOTO-AUTO</td>\n",
       "      <td>MOTO</td>\n",
       "      <td>AUTO</td>\n",
       "    </tr>\n",
       "  </tbody>\n",
       "</table>\n",
       "<p>1 rows × 21 columns</p>\n",
       "</div>"
      ],
      "text/plain": [
       "          ID  N_VICTIMAS     FECHA  AAAA  MM  DD     HORA HH  \\\n",
       "0  2016-0001           1  1/1/2016  2016   1   1  4:00:00  4   \n",
       "\n",
       "                             LUGAR_DEL_HECHO TIPO_DE_CALLE  ... Altura  \\\n",
       "0  AV PIEDRA BUENA Y AV FERNANDEZ DE LA CRUZ       AVENIDA  ...    NaN   \n",
       "\n",
       "                                 Cruce  \\\n",
       "0  FERNANDEZ DE LA CRUZ, F., GRAL. AV.   \n",
       "\n",
       "                               Dirección Normalizada COMUNA  \\\n",
       "0  PIEDRA BUENA AV. y FERNANDEZ DE LA CRUZ, F., G...      8   \n",
       "\n",
       "                               XY (CABA)         pos x         pos y  \\\n",
       "0  Point (98896.78238426 93532.43437792)  -58.47533969  -34.68757022   \n",
       "\n",
       "  PARTICIPANTES VICTIMA ACUSADO  \n",
       "0     MOTO-AUTO    MOTO    AUTO  \n",
       "\n",
       "[1 rows x 21 columns]"
      ]
     },
     "execution_count": 76,
     "metadata": {},
     "output_type": "execute_result"
    }
   ],
   "source": [
    "df_homicidiosHechos = pd.read_csv('..//data//homicidios hechos.csv')\n",
    "df_homicidiosHechos.head(1)"
   ]
  },
  {
   "cell_type": "code",
   "execution_count": 77,
   "metadata": {},
   "outputs": [
    {
     "name": "stdout",
     "output_type": "stream",
     "text": [
      "<class 'pandas.core.frame.DataFrame'>\n",
      "RangeIndex: 696 entries, 0 to 695\n",
      "Data columns (total 21 columns):\n",
      " #   Column                 Non-Null Count  Dtype  \n",
      "---  ------                 --------------  -----  \n",
      " 0   ID                     696 non-null    object \n",
      " 1   N_VICTIMAS             696 non-null    int64  \n",
      " 2   FECHA                  696 non-null    object \n",
      " 3   AAAA                   696 non-null    int64  \n",
      " 4   MM                     696 non-null    int64  \n",
      " 5   DD                     696 non-null    int64  \n",
      " 6   HORA                   696 non-null    object \n",
      " 7   HH                     696 non-null    object \n",
      " 8   LUGAR_DEL_HECHO        696 non-null    object \n",
      " 9   TIPO_DE_CALLE          696 non-null    object \n",
      " 10  Calle                  695 non-null    object \n",
      " 11  Altura                 129 non-null    float64\n",
      " 12  Cruce                  525 non-null    object \n",
      " 13  Dirección Normalizada  688 non-null    object \n",
      " 14  COMUNA                 696 non-null    int64  \n",
      " 15  XY (CABA)              696 non-null    object \n",
      " 16  pos x                  696 non-null    object \n",
      " 17  pos y                  696 non-null    object \n",
      " 18  PARTICIPANTES          696 non-null    object \n",
      " 19  VICTIMA                696 non-null    object \n",
      " 20  ACUSADO                696 non-null    object \n",
      "dtypes: float64(1), int64(5), object(15)\n",
      "memory usage: 114.3+ KB\n"
     ]
    }
   ],
   "source": [
    "# Consultar info del DF\n",
    "df_homicidiosHechos.info()"
   ]
  },
  {
   "cell_type": "code",
   "execution_count": 78,
   "metadata": {},
   "outputs": [],
   "source": [
    "# Cambiar el nombre de la columna 'N_VICTIMAS' a 'VICTIMAS'\n",
    "df_homicidiosHechos.rename(columns={'N_VICTIMAS': 'VICTIMAS'}, inplace=True)"
   ]
  },
  {
   "cell_type": "code",
   "execution_count": 79,
   "metadata": {},
   "outputs": [],
   "source": [
    "# Cambiar el nombre de la columna 'AAAA' a 'AÑO'\n",
    "df_homicidiosHechos.rename(columns={'AAAA': 'AÑO'}, inplace=True)"
   ]
  },
  {
   "cell_type": "code",
   "execution_count": 80,
   "metadata": {},
   "outputs": [],
   "source": [
    "# Cambiar el nombre de la columna 'MM' a 'MES'\n",
    "df_homicidiosHechos.rename(columns={'MM': 'MES'}, inplace=True)"
   ]
  },
  {
   "cell_type": "code",
   "execution_count": 81,
   "metadata": {},
   "outputs": [],
   "source": [
    "# Cambiar el nombre de la columna 'DD' a 'DIA'\n",
    "df_homicidiosHechos.rename(columns={'DD': 'DIA'}, inplace=True)"
   ]
  },
  {
   "cell_type": "code",
   "execution_count": 82,
   "metadata": {},
   "outputs": [],
   "source": [
    "# Cambiar el tipo de datos de la columna 'ID' a str\n",
    "df_homicidiosHechos['ID'] = df_homicidiosHechos['ID'].astype(str)"
   ]
  },
  {
   "cell_type": "code",
   "execution_count": 83,
   "metadata": {},
   "outputs": [],
   "source": [
    "# Cambiar el nombre de la columna 'ID' a 'id_siniestro'\n",
    "df_homicidiosHechos.rename(columns={'ID': 'ID_SINIESTRO'}, inplace=True)"
   ]
  },
  {
   "cell_type": "code",
   "execution_count": 84,
   "metadata": {},
   "outputs": [],
   "source": [
    "# Identificar y corregir los datos incorrectos en la columna 'HORA' (SD)\n",
    "df_homicidiosHechos = df_homicidiosHechos[df_homicidiosHechos['HORA'] != 'SD']"
   ]
  },
  {
   "cell_type": "code",
   "execution_count": 85,
   "metadata": {},
   "outputs": [],
   "source": [
    "# Cambiar el tipo de datos de la columna 'LUGAR_DEL_HECHO' a str\n",
    "df_homicidiosHechos['HORA'] = df_homicidiosHechos['HORA'].astype(str)"
   ]
  },
  {
   "cell_type": "code",
   "execution_count": 86,
   "metadata": {},
   "outputs": [],
   "source": [
    "# Normalizar el texto y capitaliza la columna 'LUGAR_DEL_HECHO'\n",
    "df_homicidiosHechos['LUGAR_DEL_HECHO'] = df_homicidiosHechos['LUGAR_DEL_HECHO'].str.normalize('NFKD').str.encode('ascii', errors='ignore').str.decode('utf-8').str.title()"
   ]
  },
  {
   "cell_type": "code",
   "execution_count": 87,
   "metadata": {},
   "outputs": [],
   "source": [
    "# Cambiar el tipo de datos de la columna 'LUGAR_DEL_HECHO' a str\n",
    "df_homicidiosHechos['LUGAR_DEL_HECHO'] = df_homicidiosHechos['LUGAR_DEL_HECHO'].astype(str)"
   ]
  },
  {
   "cell_type": "code",
   "execution_count": 88,
   "metadata": {},
   "outputs": [],
   "source": [
    "# Cambiar el nombre de la columna 'LUGAR_DEL_HECHO' a 'DIRECCION'\n",
    "df_homicidiosHechos.rename(columns={'LUGAR_DEL_HECHO': 'DIRECCION'}, inplace=True)"
   ]
  },
  {
   "cell_type": "code",
   "execution_count": 89,
   "metadata": {},
   "outputs": [],
   "source": [
    "# Normalizar el texto y capitaliza la columna 'LUGAR_DEL_HECHO'\n",
    "df_homicidiosHechos['Dirección Normalizada'] = df_homicidiosHechos['Dirección Normalizada'].str.normalize('NFKD').str.encode('ascii', errors='ignore').str.decode('utf-8').str.title()"
   ]
  },
  {
   "cell_type": "code",
   "execution_count": 90,
   "metadata": {},
   "outputs": [],
   "source": [
    "# Cambiar el tipo de datos de la columna 'LUGAR_DEL_HECHO' a str\n",
    "df_homicidiosHechos['Dirección Normalizada'] = df_homicidiosHechos['Dirección Normalizada'].astype(str)"
   ]
  },
  {
   "cell_type": "code",
   "execution_count": 91,
   "metadata": {},
   "outputs": [],
   "source": [
    "# Cambiar el nombre de la columna 'Dirección Normalizad' a 'DIRECCION_NORMALIZDA'\n",
    "df_homicidiosHechos.rename(columns={'Dirección Normalizada': 'DIRECCION_NORMALIZADA'}, inplace=True)"
   ]
  },
  {
   "cell_type": "code",
   "execution_count": 92,
   "metadata": {},
   "outputs": [],
   "source": [
    "# Cambiar el nombre de la columna 'XY (CABA)' a 'XY_CABA'\n",
    "df_homicidiosHechos.rename(columns={'XY (CABA)': 'XY_CABA'}, inplace=True)"
   ]
  },
  {
   "cell_type": "code",
   "execution_count": 93,
   "metadata": {},
   "outputs": [],
   "source": [
    "# Cambiar el tipo de datos de la columna 'ID' a str\n",
    "df_homicidiosHechos['XY_CABA'] = df_homicidiosHechos['XY_CABA'].astype(str)"
   ]
  },
  {
   "cell_type": "code",
   "execution_count": 94,
   "metadata": {},
   "outputs": [],
   "source": [
    "# Copiar los valores de la columna 'DIRECCION' a 'DIRECCION_NORMALIZADA' solo si el valor inicial es 'nan'\n",
    "df_homicidiosHechos.loc[df_homicidiosHechos['DIRECCION_NORMALIZADA'].str.startswith('nan'), 'DIRECCION_NORMALIZADA'] = df_homicidiosHechos['DIRECCION']"
   ]
  },
  {
   "cell_type": "code",
   "execution_count": 95,
   "metadata": {},
   "outputs": [],
   "source": [
    "# Definir funcion para Normalizar segun USIG la direcciones dadas\n",
    "def normalizar_direccion_usig(direccion):\n",
    "    # URL base de la API de Georef\n",
    "    url_base = \"https://apis.datos.gob.ar/georef/api/direcciones\"\n",
    "\n",
    "    # Parámetros de la solicitud GET\n",
    "    params = {\"direccion\": direccion}\n",
    "\n",
    "    # Realizar la solicitud GET a la API de Georef\n",
    "    response = requests.get(url_base, params=params)\n",
    "\n",
    "    # Verificar si la solicitud fue exitosa\n",
    "    if response.status_code == 200:\n",
    "        # Extraer los datos JSON de la respuesta\n",
    "        data = response.json()\n",
    "        \n",
    "        # Verificar si se encontraron resultados\n",
    "        if data[\"cantidad\"] > 0:\n",
    "            # Devolver la dirección normalizada\n",
    "            return data[\"direcciones\"][0][\"ubicacion\"]\n",
    "        else:\n",
    "            return \"No se encontraron resultados\"\n",
    "    else:\n",
    "        return \"Error al realizar la solicitud\"  "
   ]
  },
  {
   "cell_type": "code",
   "execution_count": 96,
   "metadata": {},
   "outputs": [],
   "source": [
    "# Identificar las filas donde 'XY_CABA' es igual a 'Point (. .)'\n",
    "filas_sd = df_homicidiosHechos['XY_CABA'] == 'Point (. .)'"
   ]
  },
  {
   "cell_type": "code",
   "execution_count": 97,
   "metadata": {},
   "outputs": [],
   "source": [
    "# Obtener las direcciones normalizadas para las filas donde 'XY_CABA' es igual a 'Point (. .)'\n",
    "direcciones_normalizadas = df_homicidiosHechos.loc[filas_sd, 'DIRECCION_NORMALIZADA'].apply(normalizar_direccion_usig)"
   ]
  },
  {
   "cell_type": "code",
   "execution_count": 98,
   "metadata": {},
   "outputs": [],
   "source": [
    "# Reemplazar los valores 'Point (. .)' en 'XY_CABA' con las direcciones normalizadas\n",
    "df_homicidiosHechos.loc[filas_sd, 'XY_CABA'] = direcciones_normalizadas"
   ]
  },
  {
   "cell_type": "code",
   "execution_count": 99,
   "metadata": {},
   "outputs": [],
   "source": [
    "# Definir una función para normalizar el texto en la columna XY_CABA\n",
    "def normalizar_xy_caba(texto):\n",
    "    if isinstance(texto, dict):\n",
    "        # Convertir el diccionario a una cadena de texto\n",
    "        texto = str(texto)\n",
    "    elif isinstance(texto, float):\n",
    "        # Convertir el float a una cadena de texto\n",
    "        texto = str(texto)\n",
    "    \n",
    "    # Utilizar una expresión regular para extraer los valores numéricos y eliminar los paréntesis\n",
    "    valores_numericos = re.findall(r'\\d+\\.\\d+', texto)\n",
    "    \n",
    "    # Verificar si se encontraron al menos dos valores numéricos\n",
    "    if len(valores_numericos) >= 2:\n",
    "        # Formatear los valores en una cadena normalizada sin paréntesis\n",
    "        return f\"{valores_numericos[0]}, {valores_numericos[1]}\"\n",
    "    else:\n",
    "        # Si no se encontraron suficientes valores numéricos, devolver una cadena vacía\n",
    "        return \"\"   "
   ]
  },
  {
   "cell_type": "code",
   "execution_count": 100,
   "metadata": {},
   "outputs": [],
   "source": [
    "# Aplicar la función a la columna XY_CABA\n",
    "df_homicidiosHechos['XY_CABA'] = df_homicidiosHechos['XY_CABA'].apply(normalizar_xy_caba)"
   ]
  },
  {
   "cell_type": "code",
   "execution_count": 101,
   "metadata": {},
   "outputs": [],
   "source": [
    "# Cambiar el nombre de la columna 'pos X' a 'LONGITUD'\n",
    "df_homicidiosHechos = df_homicidiosHechos.rename(columns={'pos x': 'LONGITUD'})"
   ]
  },
  {
   "cell_type": "code",
   "execution_count": 102,
   "metadata": {},
   "outputs": [],
   "source": [
    "# Cambiar el tipo de datos de la columna 'LONGITUD' a str\n",
    "df_homicidiosHechos['LONGITUD'] = df_homicidiosHechos['LONGITUD'].astype(str)"
   ]
  },
  {
   "cell_type": "code",
   "execution_count": 103,
   "metadata": {},
   "outputs": [],
   "source": [
    "# Cambiar el nombre de la columna 'pos y' a 'POS_Y'\n",
    "df_homicidiosHechos.rename(columns={'pos y': 'LATITUD'}, inplace=True)"
   ]
  },
  {
   "cell_type": "code",
   "execution_count": 104,
   "metadata": {},
   "outputs": [],
   "source": [
    "# Cambiar el tipo de datos de la columna 'LATITUD' a str\n",
    "df_homicidiosHechos['LATITUD'] = df_homicidiosHechos['LATITUD'].astype(str)"
   ]
  },
  {
   "cell_type": "code",
   "execution_count": 105,
   "metadata": {},
   "outputs": [],
   "source": [
    "# Normalizar el texto y capitaliza la columna 'PARTICIPANTES'\n",
    "df_homicidiosHechos['PARTICIPANTES'] = df_homicidiosHechos['PARTICIPANTES'].str.normalize('NFKD').str.encode('ascii', errors='ignore').str.decode('utf-8').str.title()"
   ]
  },
  {
   "cell_type": "code",
   "execution_count": 106,
   "metadata": {},
   "outputs": [],
   "source": [
    "# Cambiar el tipo de datos de la columna 'LUGAR_DEL_HECHO' a str\n",
    "df_homicidiosHechos['PARTICIPANTES'] = df_homicidiosHechos['PARTICIPANTES'].astype(str)"
   ]
  },
  {
   "cell_type": "code",
   "execution_count": 107,
   "metadata": {},
   "outputs": [],
   "source": [
    "# Normalizar el texto y capitaliza la columna 'PARTICIPANTES'\n",
    "df_homicidiosHechos['VICTIMA'] = df_homicidiosHechos['VICTIMA'].str.normalize('NFKD').str.encode('ascii', errors='ignore').str.decode('utf-8').str.title()"
   ]
  },
  {
   "cell_type": "code",
   "execution_count": 108,
   "metadata": {},
   "outputs": [],
   "source": [
    "# Cambiar el tipo de datos de la columna 'LUGAR_DEL_HECHO' a str\n",
    "df_homicidiosHechos['VICTIMA'] = df_homicidiosHechos['VICTIMA'].astype(str)"
   ]
  },
  {
   "cell_type": "code",
   "execution_count": 109,
   "metadata": {},
   "outputs": [],
   "source": [
    "# Normalizar el texto y capitaliza la columna 'PARTICIPANTES'\n",
    "df_homicidiosHechos['ACUSADO'] = df_homicidiosHechos['ACUSADO'].str.normalize('NFKD').str.encode('ascii', errors='ignore').str.decode('utf-8').str.title()"
   ]
  },
  {
   "cell_type": "code",
   "execution_count": 110,
   "metadata": {},
   "outputs": [],
   "source": [
    "# Cambiar el tipo de datos de la columna 'LUGAR_DEL_HECHO' a str\n",
    "df_homicidiosHechos['ACUSADO'] = df_homicidiosHechos['ACUSADO'].astype(str)"
   ]
  },
  {
   "cell_type": "code",
   "execution_count": 111,
   "metadata": {},
   "outputs": [],
   "source": [
    "# Listar de nombres de columnas a eliminar\n",
    "columnas_a_eliminar = ['FECHA', 'HH', 'TIPO_DE_CALLE', 'Calle', 'Altura', 'Cruce']\n",
    "\n",
    "# Eliminar las columnas especificadas\n",
    "df_homicidiosHechos = df_homicidiosHechos.drop(columns=columnas_a_eliminar)"
   ]
  },
  {
   "cell_type": "code",
   "execution_count": 112,
   "metadata": {},
   "outputs": [
    {
     "data": {
      "text/html": [
       "<div>\n",
       "<style scoped>\n",
       "    .dataframe tbody tr th:only-of-type {\n",
       "        vertical-align: middle;\n",
       "    }\n",
       "\n",
       "    .dataframe tbody tr th {\n",
       "        vertical-align: top;\n",
       "    }\n",
       "\n",
       "    .dataframe thead th {\n",
       "        text-align: right;\n",
       "    }\n",
       "</style>\n",
       "<table border=\"1\" class=\"dataframe\">\n",
       "  <thead>\n",
       "    <tr style=\"text-align: right;\">\n",
       "      <th></th>\n",
       "      <th>ID_SINIESTRO</th>\n",
       "      <th>VICTIMAS</th>\n",
       "      <th>AÑO</th>\n",
       "      <th>MES</th>\n",
       "      <th>DIA</th>\n",
       "      <th>HORA</th>\n",
       "      <th>DIRECCION</th>\n",
       "      <th>DIRECCION_NORMALIZADA</th>\n",
       "      <th>COMUNA</th>\n",
       "      <th>XY_CABA</th>\n",
       "      <th>LONGITUD</th>\n",
       "      <th>LATITUD</th>\n",
       "      <th>PARTICIPANTES</th>\n",
       "      <th>VICTIMA</th>\n",
       "      <th>ACUSADO</th>\n",
       "    </tr>\n",
       "  </thead>\n",
       "  <tbody>\n",
       "    <tr>\n",
       "      <th>0</th>\n",
       "      <td>2016-0001</td>\n",
       "      <td>1</td>\n",
       "      <td>2016</td>\n",
       "      <td>1</td>\n",
       "      <td>1</td>\n",
       "      <td>4:00:00</td>\n",
       "      <td>Av Piedra Buena Y Av Fernandez De La Cruz</td>\n",
       "      <td>Piedra Buena Av. Y Fernandez De La Cruz, F., G...</td>\n",
       "      <td>8</td>\n",
       "      <td>98896.78238426, 93532.43437792</td>\n",
       "      <td>-58.47533969</td>\n",
       "      <td>-34.68757022</td>\n",
       "      <td>Moto-Auto</td>\n",
       "      <td>Moto</td>\n",
       "      <td>Auto</td>\n",
       "    </tr>\n",
       "  </tbody>\n",
       "</table>\n",
       "</div>"
      ],
      "text/plain": [
       "  ID_SINIESTRO  VICTIMAS   AÑO  MES  DIA     HORA  \\\n",
       "0    2016-0001         1  2016    1    1  4:00:00   \n",
       "\n",
       "                                   DIRECCION  \\\n",
       "0  Av Piedra Buena Y Av Fernandez De La Cruz   \n",
       "\n",
       "                               DIRECCION_NORMALIZADA  COMUNA  \\\n",
       "0  Piedra Buena Av. Y Fernandez De La Cruz, F., G...       8   \n",
       "\n",
       "                          XY_CABA      LONGITUD       LATITUD PARTICIPANTES  \\\n",
       "0  98896.78238426, 93532.43437792  -58.47533969  -34.68757022     Moto-Auto   \n",
       "\n",
       "  VICTIMA ACUSADO  \n",
       "0    Moto    Auto  "
      ]
     },
     "execution_count": 112,
     "metadata": {},
     "output_type": "execute_result"
    }
   ],
   "source": [
    "df_homicidiosHechos.head(1)"
   ]
  },
  {
   "cell_type": "code",
   "execution_count": 113,
   "metadata": {},
   "outputs": [
    {
     "name": "stdout",
     "output_type": "stream",
     "text": [
      "<class 'pandas.core.frame.DataFrame'>\n",
      "Index: 695 entries, 0 to 695\n",
      "Data columns (total 15 columns):\n",
      " #   Column                 Non-Null Count  Dtype \n",
      "---  ------                 --------------  ----- \n",
      " 0   ID_SINIESTRO           695 non-null    object\n",
      " 1   VICTIMAS               695 non-null    int64 \n",
      " 2   AÑO                    695 non-null    int64 \n",
      " 3   MES                    695 non-null    int64 \n",
      " 4   DIA                    695 non-null    int64 \n",
      " 5   HORA                   695 non-null    object\n",
      " 6   DIRECCION              695 non-null    object\n",
      " 7   DIRECCION_NORMALIZADA  695 non-null    object\n",
      " 8   COMUNA                 695 non-null    int64 \n",
      " 9   XY_CABA                695 non-null    object\n",
      " 10  LONGITUD               695 non-null    object\n",
      " 11  LATITUD                695 non-null    object\n",
      " 12  PARTICIPANTES          695 non-null    object\n",
      " 13  VICTIMA                695 non-null    object\n",
      " 14  ACUSADO                695 non-null    object\n",
      "dtypes: int64(5), object(10)\n",
      "memory usage: 103.0+ KB\n"
     ]
    }
   ],
   "source": [
    "df_homicidiosHechos.info()"
   ]
  },
  {
   "cell_type": "code",
   "execution_count": 114,
   "metadata": {},
   "outputs": [],
   "source": [
    "# Guarda el DataFrame despues del ETL en un archivo CSV\n",
    "df_homicidiosHechos = df_homicidiosHechos.to_csv('..//data//homicidios_hechos_etl.csv')"
   ]
  },
  {
   "cell_type": "markdown",
   "metadata": {},
   "source": [
    "## Trabajemos en conformar el Dataframe que englobe a los Homicidios-Victimas"
   ]
  },
  {
   "cell_type": "code",
   "execution_count": 220,
   "metadata": {},
   "outputs": [
    {
     "data": {
      "text/html": [
       "<div>\n",
       "<style scoped>\n",
       "    .dataframe tbody tr th:only-of-type {\n",
       "        vertical-align: middle;\n",
       "    }\n",
       "\n",
       "    .dataframe tbody tr th {\n",
       "        vertical-align: top;\n",
       "    }\n",
       "\n",
       "    .dataframe thead th {\n",
       "        text-align: right;\n",
       "    }\n",
       "</style>\n",
       "<table border=\"1\" class=\"dataframe\">\n",
       "  <thead>\n",
       "    <tr style=\"text-align: right;\">\n",
       "      <th></th>\n",
       "      <th>ID_hecho</th>\n",
       "      <th>FECHA</th>\n",
       "      <th>AAAA</th>\n",
       "      <th>MM</th>\n",
       "      <th>DD</th>\n",
       "      <th>ROL</th>\n",
       "      <th>VICTIMA</th>\n",
       "      <th>SEXO</th>\n",
       "      <th>EDAD</th>\n",
       "      <th>FECHA_FALLECIMIENTO</th>\n",
       "    </tr>\n",
       "  </thead>\n",
       "  <tbody>\n",
       "    <tr>\n",
       "      <th>0</th>\n",
       "      <td>2016-0001</td>\n",
       "      <td>1/1/2016</td>\n",
       "      <td>2016</td>\n",
       "      <td>1</td>\n",
       "      <td>1</td>\n",
       "      <td>CONDUCTOR</td>\n",
       "      <td>MOTO</td>\n",
       "      <td>MASCULINO</td>\n",
       "      <td>19</td>\n",
       "      <td>1/1/2016</td>\n",
       "    </tr>\n",
       "  </tbody>\n",
       "</table>\n",
       "</div>"
      ],
      "text/plain": [
       "    ID_hecho     FECHA  AAAA  MM  DD        ROL VICTIMA       SEXO EDAD  \\\n",
       "0  2016-0001  1/1/2016  2016   1   1  CONDUCTOR    MOTO  MASCULINO   19   \n",
       "\n",
       "  FECHA_FALLECIMIENTO  \n",
       "0            1/1/2016  "
      ]
     },
     "execution_count": 220,
     "metadata": {},
     "output_type": "execute_result"
    }
   ],
   "source": [
    "df_homicidiosVictimas = pd.read_csv('..//data//homicidios victimas.csv')\n",
    "df_homicidiosVictimas.head(1)"
   ]
  },
  {
   "cell_type": "code",
   "execution_count": 223,
   "metadata": {},
   "outputs": [
    {
     "name": "stdout",
     "output_type": "stream",
     "text": [
      "<class 'pandas.core.frame.DataFrame'>\n",
      "RangeIndex: 717 entries, 0 to 716\n",
      "Data columns (total 10 columns):\n",
      " #   Column               Non-Null Count  Dtype \n",
      "---  ------               --------------  ----- \n",
      " 0   ID_SINIESTRO         717 non-null    object\n",
      " 1   FECHA                717 non-null    object\n",
      " 2   AAAA                 717 non-null    int64 \n",
      " 3   MM                   717 non-null    int64 \n",
      " 4   DD                   717 non-null    int64 \n",
      " 5   ROL                  717 non-null    object\n",
      " 6   VICTIMA              717 non-null    object\n",
      " 7   SEXO                 717 non-null    object\n",
      " 8   EDAD                 717 non-null    object\n",
      " 9   FECHA_FALLECIMIENTO  717 non-null    object\n",
      "dtypes: int64(3), object(7)\n",
      "memory usage: 56.1+ KB\n"
     ]
    }
   ],
   "source": [
    "df_homicidiosVictimas.info()"
   ]
  },
  {
   "cell_type": "code",
   "execution_count": 221,
   "metadata": {},
   "outputs": [],
   "source": [
    "# Cambiar el nombre de la columna 'ID_hecho' a 'id_siniestro'\n",
    "df_homicidiosVictimas.rename(columns={'ID_hecho': 'ID_SINIESTRO'}, inplace=True)"
   ]
  },
  {
   "cell_type": "code",
   "execution_count": 224,
   "metadata": {},
   "outputs": [],
   "source": [
    "# Cambiar el nombre de la columna 'AAAA' a 'AÑO'\n",
    "df_homicidiosVictimas.rename(columns={'AAAA': 'AÑO'}, inplace=True)"
   ]
  },
  {
   "cell_type": "code",
   "execution_count": 225,
   "metadata": {},
   "outputs": [],
   "source": [
    "# Cambiar el nombre de la columna 'AAAA' a 'AÑO'\n",
    "df_homicidiosVictimas.rename(columns={'MM': 'MES'}, inplace=True)"
   ]
  },
  {
   "cell_type": "code",
   "execution_count": 226,
   "metadata": {},
   "outputs": [],
   "source": [
    "# Cambiar el nombre de la columna 'AAAA' a 'AÑO'\n",
    "df_homicidiosVictimas.rename(columns={'DD': 'DIA'}, inplace=True)"
   ]
  },
  {
   "cell_type": "code",
   "execution_count": 227,
   "metadata": {},
   "outputs": [],
   "source": [
    "# Normalizar el texto y capitaliza la columna 'ROL'\n",
    "df_homicidiosVictimas['ROL'] = df_homicidiosVictimas['ROL'].str.normalize('NFKD').str.encode('ascii', errors='ignore').str.decode('utf-8').str.title()"
   ]
  },
  {
   "cell_type": "code",
   "execution_count": 228,
   "metadata": {},
   "outputs": [],
   "source": [
    "# Cambiar el tipo de datos de la columna 'ROL' a str\n",
    "df_homicidiosVictimas['ROL'] = df_homicidiosVictimas['ROL'].astype(str)"
   ]
  },
  {
   "cell_type": "code",
   "execution_count": 229,
   "metadata": {},
   "outputs": [],
   "source": [
    "# Normalizar el texto y capitaliza la columna 'ROL'\n",
    "df_homicidiosVictimas['VICTIMA'] = df_homicidiosVictimas['VICTIMA'].str.normalize('NFKD').str.encode('ascii', errors='ignore').str.decode('utf-8').str.title()"
   ]
  },
  {
   "cell_type": "code",
   "execution_count": 230,
   "metadata": {},
   "outputs": [],
   "source": [
    "# Cambiar el tipo de datos de la columna 'ROL' a str\n",
    "df_homicidiosVictimas['VICTIMA'] = df_homicidiosVictimas['VICTIMA'].astype(str)"
   ]
  },
  {
   "cell_type": "code",
   "execution_count": 233,
   "metadata": {},
   "outputs": [],
   "source": [
    "# Normalizar el texto y capitaliza la columna 'SEXO'\n",
    "df_homicidiosVictimas['SEXO'] = df_homicidiosVictimas['SEXO'].str.normalize('NFKD').str.encode('ascii', errors='ignore').str.decode('utf-8').str.title()"
   ]
  },
  {
   "cell_type": "code",
   "execution_count": 234,
   "metadata": {},
   "outputs": [],
   "source": [
    "# Cambiar el tipo de datos de la columna 'SEXO' a str\n",
    "df_homicidiosVictimas['SEXO'] = df_homicidiosVictimas['SEXO'].astype(str)"
   ]
  },
  {
   "cell_type": "code",
   "execution_count": 236,
   "metadata": {},
   "outputs": [],
   "source": [
    "# Listar de nombres de columnas a eliminar\n",
    "columnas_a_eliminar = ['FECHA']\n",
    "\n",
    "# Eliminar las columnas especificadas\n",
    "df_homicidiosVictimas = df_homicidiosVictimas.drop(columns=columnas_a_eliminar)"
   ]
  },
  {
   "cell_type": "code",
   "execution_count": 237,
   "metadata": {},
   "outputs": [
    {
     "data": {
      "text/html": [
       "<div>\n",
       "<style scoped>\n",
       "    .dataframe tbody tr th:only-of-type {\n",
       "        vertical-align: middle;\n",
       "    }\n",
       "\n",
       "    .dataframe tbody tr th {\n",
       "        vertical-align: top;\n",
       "    }\n",
       "\n",
       "    .dataframe thead th {\n",
       "        text-align: right;\n",
       "    }\n",
       "</style>\n",
       "<table border=\"1\" class=\"dataframe\">\n",
       "  <thead>\n",
       "    <tr style=\"text-align: right;\">\n",
       "      <th></th>\n",
       "      <th>ID_SINIESTRO</th>\n",
       "      <th>AÑO</th>\n",
       "      <th>MES</th>\n",
       "      <th>DIA</th>\n",
       "      <th>ROL</th>\n",
       "      <th>VICTIMA</th>\n",
       "      <th>SEXO</th>\n",
       "      <th>EDAD</th>\n",
       "      <th>FECHA_FALLECIMIENTO</th>\n",
       "    </tr>\n",
       "  </thead>\n",
       "  <tbody>\n",
       "    <tr>\n",
       "      <th>0</th>\n",
       "      <td>2016-0001</td>\n",
       "      <td>2016</td>\n",
       "      <td>1</td>\n",
       "      <td>1</td>\n",
       "      <td>Conductor</td>\n",
       "      <td>Moto</td>\n",
       "      <td>Masculino</td>\n",
       "      <td>19</td>\n",
       "      <td>1/1/2016</td>\n",
       "    </tr>\n",
       "  </tbody>\n",
       "</table>\n",
       "</div>"
      ],
      "text/plain": [
       "  ID_SINIESTRO   AÑO  MES  DIA        ROL VICTIMA       SEXO EDAD  \\\n",
       "0    2016-0001  2016    1    1  Conductor    Moto  Masculino   19   \n",
       "\n",
       "  FECHA_FALLECIMIENTO  \n",
       "0            1/1/2016  "
      ]
     },
     "execution_count": 237,
     "metadata": {},
     "output_type": "execute_result"
    }
   ],
   "source": [
    "df_homicidiosVictimas.head(1)"
   ]
  },
  {
   "cell_type": "code",
   "execution_count": 238,
   "metadata": {},
   "outputs": [
    {
     "name": "stdout",
     "output_type": "stream",
     "text": [
      "<class 'pandas.core.frame.DataFrame'>\n",
      "RangeIndex: 717 entries, 0 to 716\n",
      "Data columns (total 9 columns):\n",
      " #   Column               Non-Null Count  Dtype \n",
      "---  ------               --------------  ----- \n",
      " 0   ID_SINIESTRO         717 non-null    object\n",
      " 1   AÑO                  717 non-null    int64 \n",
      " 2   MES                  717 non-null    int64 \n",
      " 3   DIA                  717 non-null    int64 \n",
      " 4   ROL                  717 non-null    object\n",
      " 5   VICTIMA              717 non-null    object\n",
      " 6   SEXO                 717 non-null    object\n",
      " 7   EDAD                 717 non-null    object\n",
      " 8   FECHA_FALLECIMIENTO  717 non-null    object\n",
      "dtypes: int64(3), object(6)\n",
      "memory usage: 50.5+ KB\n"
     ]
    }
   ],
   "source": [
    "df_homicidiosVictimas.info()"
   ]
  },
  {
   "cell_type": "code",
   "execution_count": 239,
   "metadata": {},
   "outputs": [],
   "source": [
    "# Guarda el DataFrame despues del ETL en un archivo CSV\n",
    "df_homicidiosVictimas = df_homicidiosVictimas.to_csv('..//data//homicidios_victimas_etl.csv')"
   ]
  },
  {
   "cell_type": "markdown",
   "metadata": {},
   "source": [
    "## Trabajemos en conformar el Dataframe que englobe a los Lesiones-Hechos"
   ]
  },
  {
   "cell_type": "code",
   "execution_count": 2,
   "metadata": {},
   "outputs": [
    {
     "data": {
      "text/html": [
       "<div>\n",
       "<style scoped>\n",
       "    .dataframe tbody tr th:only-of-type {\n",
       "        vertical-align: middle;\n",
       "    }\n",
       "\n",
       "    .dataframe tbody tr th {\n",
       "        vertical-align: top;\n",
       "    }\n",
       "\n",
       "    .dataframe thead th {\n",
       "        text-align: right;\n",
       "    }\n",
       "</style>\n",
       "<table border=\"1\" class=\"dataframe\">\n",
       "  <thead>\n",
       "    <tr style=\"text-align: right;\">\n",
       "      <th></th>\n",
       "      <th>id</th>\n",
       "      <th>n_victimas</th>\n",
       "      <th>aaaa</th>\n",
       "      <th>mm</th>\n",
       "      <th>dd</th>\n",
       "      <th>fecha</th>\n",
       "      <th>hora</th>\n",
       "      <th>franja_hora</th>\n",
       "      <th>direccion_normalizada</th>\n",
       "      <th>comuna</th>\n",
       "      <th>...</th>\n",
       "      <th>latutid</th>\n",
       "      <th>victima</th>\n",
       "      <th>acusado</th>\n",
       "      <th>participantes</th>\n",
       "      <th>moto</th>\n",
       "      <th>auto</th>\n",
       "      <th>transporte_publico</th>\n",
       "      <th>camion</th>\n",
       "      <th>ciclista</th>\n",
       "      <th>gravedad</th>\n",
       "    </tr>\n",
       "  </thead>\n",
       "  <tbody>\n",
       "    <tr>\n",
       "      <th>0</th>\n",
       "      <td>LC-2019-0000179</td>\n",
       "      <td>1</td>\n",
       "      <td>2019</td>\n",
       "      <td>1</td>\n",
       "      <td>1</td>\n",
       "      <td>1/1/2019</td>\n",
       "      <td>9:00</td>\n",
       "      <td>9</td>\n",
       "      <td>SD</td>\n",
       "      <td>14</td>\n",
       "      <td>...</td>\n",
       "      <td>-34.559658</td>\n",
       "      <td>CICLISTA</td>\n",
       "      <td>SD</td>\n",
       "      <td>CICLISTA-SD</td>\n",
       "      <td>SD</td>\n",
       "      <td>SD</td>\n",
       "      <td>SD</td>\n",
       "      <td>SD</td>\n",
       "      <td>x</td>\n",
       "      <td>SD</td>\n",
       "    </tr>\n",
       "  </tbody>\n",
       "</table>\n",
       "<p>1 rows × 27 columns</p>\n",
       "</div>"
      ],
      "text/plain": [
       "                id  n_victimas  aaaa  mm  dd     fecha  hora franja_hora  \\\n",
       "0  LC-2019-0000179           1  2019   1   1  1/1/2019  9:00           9   \n",
       "\n",
       "  direccion_normalizada comuna  ...     latutid   victima acusado  \\\n",
       "0                    SD     14  ...  -34.559658  CICLISTA      SD   \n",
       "\n",
       "   participantes moto auto transporte_publico camion ciclista gravedad  \n",
       "0    CICLISTA-SD   SD   SD                 SD     SD        x       SD  \n",
       "\n",
       "[1 rows x 27 columns]"
      ]
     },
     "execution_count": 2,
     "metadata": {},
     "output_type": "execute_result"
    }
   ],
   "source": [
    "df_lesionesHechos = pd.read_csv('..//data//lesiones hechos.csv')\n",
    "df_lesionesHechos.head(1)"
   ]
  },
  {
   "cell_type": "code",
   "execution_count": 3,
   "metadata": {},
   "outputs": [
    {
     "name": "stdout",
     "output_type": "stream",
     "text": [
      "<class 'pandas.core.frame.DataFrame'>\n",
      "RangeIndex: 23785 entries, 0 to 23784\n",
      "Data columns (total 27 columns):\n",
      " #   Column                 Non-Null Count  Dtype  \n",
      "---  ------                 --------------  -----  \n",
      " 0   id                     23785 non-null  object \n",
      " 1   n_victimas             23785 non-null  int64  \n",
      " 2   aaaa                   23785 non-null  int64  \n",
      " 3   mm                     23785 non-null  int64  \n",
      " 4   dd                     23785 non-null  int64  \n",
      " 5   fecha                  23785 non-null  object \n",
      " 6   hora                   23785 non-null  object \n",
      " 7   franja_hora            23780 non-null  object \n",
      " 8   direccion_normalizada  23732 non-null  object \n",
      " 9   comuna                 23616 non-null  object \n",
      " 10  tipo_calle             23785 non-null  object \n",
      " 11  otra_direccion         23785 non-null  object \n",
      " 12  calle                  12867 non-null  object \n",
      " 13  altura                 12771 non-null  float64\n",
      " 14  cruce                  9407 non-null   object \n",
      " 15  geocodificacion_CABA   23746 non-null  object \n",
      " 16  longitud               23523 non-null  object \n",
      " 17  latutid                23523 non-null  object \n",
      " 18  victima                23785 non-null  object \n",
      " 19  acusado                23785 non-null  object \n",
      " 20  participantes          23785 non-null  object \n",
      " 21  moto                   23692 non-null  object \n",
      " 22  auto                   23692 non-null  object \n",
      " 23  transporte_publico     23692 non-null  object \n",
      " 24  camion                 23692 non-null  object \n",
      " 25  ciclista               23692 non-null  object \n",
      " 26  gravedad               23785 non-null  object \n",
      "dtypes: float64(1), int64(4), object(22)\n",
      "memory usage: 4.9+ MB\n"
     ]
    }
   ],
   "source": [
    "df_lesionesHechos.info()"
   ]
  },
  {
   "cell_type": "code",
   "execution_count": 4,
   "metadata": {},
   "outputs": [],
   "source": [
    "# Cambiar el tipo de datos de la columna 'id' a str\n",
    "df_lesionesHechos['id'] = df_lesionesHechos['id'].astype(str)"
   ]
  },
  {
   "cell_type": "code",
   "execution_count": 5,
   "metadata": {},
   "outputs": [],
   "source": [
    "# Cambiar el nombre de la columna 'id' a 'ID_LESIONES'\n",
    "df_lesionesHechos.rename(columns={'id': 'ID_LESIONES'}, inplace=True)"
   ]
  },
  {
   "cell_type": "code",
   "execution_count": 6,
   "metadata": {},
   "outputs": [],
   "source": [
    "# Cambiar el nombre de la columna 'n_victimas' a 'VICTIMAS'\n",
    "df_lesionesHechos.rename(columns={'n_victimas': 'VICTIMAS'}, inplace=True)"
   ]
  },
  {
   "cell_type": "code",
   "execution_count": 7,
   "metadata": {},
   "outputs": [],
   "source": [
    "# Cambiar el nombre de la columna 'aaaa' a 'AÑO'\n",
    "df_lesionesHechos.rename(columns={'aaaa': 'AÑO'}, inplace=True)"
   ]
  },
  {
   "cell_type": "code",
   "execution_count": 8,
   "metadata": {},
   "outputs": [],
   "source": [
    "# Cambiar el nombre de la columna 'mm' a 'MES'\n",
    "df_lesionesHechos.rename(columns={'mm': 'MES'}, inplace=True)"
   ]
  },
  {
   "cell_type": "code",
   "execution_count": 9,
   "metadata": {},
   "outputs": [],
   "source": [
    "# Cambiar el nombre de la columna 'dd' a 'DIA'\n",
    "df_lesionesHechos.rename(columns={'dd': 'DIA'}, inplace=True)"
   ]
  },
  {
   "cell_type": "code",
   "execution_count": 10,
   "metadata": {},
   "outputs": [],
   "source": [
    "# Cambiar el tipo de datos de la columna 'hora' a str\n",
    "df_lesionesHechos['hora'] = df_lesionesHechos['hora'].astype(str)"
   ]
  },
  {
   "cell_type": "code",
   "execution_count": 11,
   "metadata": {},
   "outputs": [],
   "source": [
    "# Cambiar el nombre de la columna 'hora' a 'HORA'\n",
    "df_lesionesHechos.rename(columns={'hora': 'HORA'}, inplace=True)"
   ]
  },
  {
   "cell_type": "code",
   "execution_count": 12,
   "metadata": {},
   "outputs": [],
   "source": [
    "# Normalizar el texto y capitaliza la columna 'otra_direccion'\n",
    "df_lesionesHechos['otra_direccion'] = df_lesionesHechos['otra_direccion'].str.normalize('NFKD').str.encode('ascii', errors='ignore').str.decode('utf-8').str.title()"
   ]
  },
  {
   "cell_type": "code",
   "execution_count": 13,
   "metadata": {},
   "outputs": [],
   "source": [
    "# Cambiar el tipo de datos de la columna 'otra_direccion' a str\n",
    "df_lesionesHechos['otra_direccion'] = df_lesionesHechos['otra_direccion'].astype(str)"
   ]
  },
  {
   "cell_type": "code",
   "execution_count": 14,
   "metadata": {},
   "outputs": [],
   "source": [
    "# Cambiar el nombre de la columna 'otra_direccion' a 'DIRECCION'\n",
    "df_lesionesHechos.rename(columns={'otra_direccion': 'DIRECCION'}, inplace=True)"
   ]
  },
  {
   "cell_type": "code",
   "execution_count": 15,
   "metadata": {},
   "outputs": [],
   "source": [
    "# Normalizar el texto y capitaliza la columna 'direccion_normalizada'\n",
    "df_lesionesHechos['direccion_normalizada'] = df_lesionesHechos['direccion_normalizada'].str.normalize('NFKD').str.encode('ascii', errors='ignore').str.decode('utf-8').str.title()"
   ]
  },
  {
   "cell_type": "code",
   "execution_count": 16,
   "metadata": {},
   "outputs": [],
   "source": [
    "# Cambiar el tipo de datos de la columna 'otra_direccion' a str\n",
    "df_lesionesHechos['direccion_normalizada'] = df_lesionesHechos['direccion_normalizada'].astype(str)"
   ]
  },
  {
   "cell_type": "code",
   "execution_count": 17,
   "metadata": {},
   "outputs": [],
   "source": [
    "# Cambiar el nombre de la columna 'otra_direccion' a 'DIRECCION'\n",
    "df_lesionesHechos.rename(columns={'direccion_normalizada': 'DIRECCION_NORMALIZADA'}, inplace=True)"
   ]
  },
  {
   "cell_type": "code",
   "execution_count": 18,
   "metadata": {},
   "outputs": [],
   "source": [
    "# Copiar los valores de la columna 'DIRECCION' a 'DIRECCION_NORMALIZADA' solo si el valor inicial es 'sd'\n",
    "df_lesionesHechos.loc[df_lesionesHechos['DIRECCION_NORMALIZADA'].str.startswith('Sd'), 'DIRECCION_NORMALIZADA'] = df_lesionesHechos['DIRECCION']"
   ]
  },
  {
   "cell_type": "code",
   "execution_count": 19,
   "metadata": {},
   "outputs": [],
   "source": [
    "# Copiar los valores de la columna 'DIRECCION_NORMALIZADA' a 'DIRECCION' solo si el valor inicial es 'sd'\n",
    "df_lesionesHechos.loc[df_lesionesHechos['DIRECCION'].str.startswith('Sd'), 'DIRECCION'] = df_lesionesHechos['DIRECCION_NORMALIZADA']"
   ]
  },
  {
   "cell_type": "code",
   "execution_count": 20,
   "metadata": {},
   "outputs": [],
   "source": [
    "# Definir funcion para Normalizar segun USIG la direcciones dadas\n",
    "def normalizar_direccion_usig(direccion):\n",
    "    # URL base de la API de Georef\n",
    "    url_base = \"https://apis.datos.gob.ar/georef/api/direcciones\"\n",
    "\n",
    "    # Parámetros de la solicitud GET\n",
    "    params = {\"direccion\": direccion}\n",
    "\n",
    "    # Realizar la solicitud GET a la API de Georef\n",
    "    response = requests.get(url_base, params=params)\n",
    "\n",
    "    # Verificar si la solicitud fue exitosa\n",
    "    if response.status_code == 200:\n",
    "        # Extraer los datos JSON de la respuesta\n",
    "        data = response.json()\n",
    "        \n",
    "        # Verificar si se encontraron resultados\n",
    "        if data[\"cantidad\"] > 0:\n",
    "            # Devolver la dirección normalizada\n",
    "            return data[\"direcciones\"][0][\"ubicacion\"]\n",
    "        else:\n",
    "            return \"No se encontraron resultados\"\n",
    "    else:\n",
    "        return \"Error al realizar la solicitud\""
   ]
  },
  {
   "cell_type": "code",
   "execution_count": 21,
   "metadata": {},
   "outputs": [],
   "source": [
    "# Identificar las filas donde 'geocodificacion_CABA' es igual a 'SD'\n",
    "filas_sd = df_lesionesHechos['geocodificacion_CABA'] == 'SD'"
   ]
  },
  {
   "cell_type": "code",
   "execution_count": 23,
   "metadata": {},
   "outputs": [],
   "source": [
    "# Obtener las direcciones normalizadas para las filas donde 'geocodificacion_CABA' es igual a 'SD'\n",
    "direcciones_normalizadas = df_lesionesHechos.loc[filas_sd, 'DIRECCION_NORMALIZADA'].apply(normalizar_direccion_usig)"
   ]
  },
  {
   "cell_type": "code",
   "execution_count": 24,
   "metadata": {},
   "outputs": [],
   "source": [
    "# Reemplazar los valores 'SD' en 'geocodificacion_CABA' con las direcciones normalizadas\n",
    "df_lesionesHechos.loc[filas_sd, 'geocodificacion_CABA'] = direcciones_normalizadas"
   ]
  },
  {
   "cell_type": "code",
   "execution_count": 25,
   "metadata": {},
   "outputs": [],
   "source": [
    "# Cambiar el nombre de la columna 'geocodificacion_CABA' a 'XY_CABA'\n",
    "df_lesionesHechos.rename(columns={'geocodificacion_CABA': 'XY_CABA'}, inplace=True)"
   ]
  },
  {
   "cell_type": "code",
   "execution_count": 59,
   "metadata": {},
   "outputs": [],
   "source": [
    "# Definir una función para normalizar el texto en la columna XY_CABA\n",
    "def normalizar_xy_caba(texto):\n",
    "    if isinstance(texto, dict):\n",
    "        # Convertir el diccionario a una cadena de texto\n",
    "        texto = str(texto)\n",
    "    elif isinstance(texto, float):\n",
    "        # Convertir el float a una cadena de texto\n",
    "        texto = str(texto)\n",
    "    \n",
    "    # Utilizar una expresión regular para extraer los valores numéricos y eliminar los paréntesis\n",
    "    valores_numericos = re.findall(r'\\d+\\.\\d+', texto)\n",
    "    \n",
    "    # Verificar si se encontraron al menos dos valores numéricos\n",
    "    if len(valores_numericos) >= 2:\n",
    "        # Formatear los valores en una cadena normalizada sin paréntesis\n",
    "        return f\"{valores_numericos[0]}, {valores_numericos[1]}\"\n",
    "    else:\n",
    "        # Si no se encontraron suficientes valores numéricos, devolver una cadena vacía\n",
    "        return \"\""
   ]
  },
  {
   "cell_type": "code",
   "execution_count": 60,
   "metadata": {},
   "outputs": [],
   "source": [
    "# Aplicar la función a la columna XY_CABA\n",
    "df_lesionesHechos['XY_CABA'] = df_lesionesHechos['XY_CABA'].apply(normalizar_xy_caba)"
   ]
  },
  {
   "cell_type": "code",
   "execution_count": 26,
   "metadata": {},
   "outputs": [],
   "source": [
    "# Cambiar el nombre de la columna 'longitud' a 'LONGITUD'\n",
    "df_lesionesHechos.rename(columns={'longitud': 'LONGITUD'}, inplace=True)"
   ]
  },
  {
   "cell_type": "code",
   "execution_count": 30,
   "metadata": {},
   "outputs": [],
   "source": [
    "# Cambiar el nombre de la columna 'latitud' a 'LATITUD'\n",
    "df_lesionesHechos.rename(columns={'latutid': 'LATITUD'}, inplace=True)"
   ]
  },
  {
   "cell_type": "code",
   "execution_count": 28,
   "metadata": {},
   "outputs": [],
   "source": [
    "# Cambiar el nombre de la columna 'victima' a 'VICTIMA'\n",
    "df_lesionesHechos.rename(columns={'victima': 'VICTIMA'}, inplace=True)"
   ]
  },
  {
   "cell_type": "code",
   "execution_count": 64,
   "metadata": {},
   "outputs": [],
   "source": [
    "# Normalizar el texto y capitaliza la columna 'direccion_normalizada'\n",
    "df_lesionesHechos['VICTIMA'] = df_lesionesHechos['VICTIMA'].str.normalize('NFKD').str.encode('ascii', errors='ignore').str.decode('utf-8').str.title()"
   ]
  },
  {
   "cell_type": "code",
   "execution_count": 65,
   "metadata": {},
   "outputs": [],
   "source": [
    "# Cambiar el tipo de datos de la columna 'otra_direccion' a str\n",
    "df_lesionesHechos['VICTIMA'] = df_lesionesHechos['VICTIMA'].astype(str)"
   ]
  },
  {
   "cell_type": "code",
   "execution_count": 35,
   "metadata": {},
   "outputs": [],
   "source": [
    "# Cambiar el nombre de la columna 'acusado' a 'ACUSADO'\n",
    "df_lesionesHechos.rename(columns={'acusado': 'ACUSADO'}, inplace=True)"
   ]
  },
  {
   "cell_type": "code",
   "execution_count": 67,
   "metadata": {},
   "outputs": [],
   "source": [
    "# Normalizar el texto y capitaliza la columna 'direccion_normalizada'\n",
    "df_lesionesHechos['ACUSADO'] = df_lesionesHechos['ACUSADO'].str.normalize('NFKD').str.encode('ascii', errors='ignore').str.decode('utf-8').str.title()"
   ]
  },
  {
   "cell_type": "code",
   "execution_count": 68,
   "metadata": {},
   "outputs": [],
   "source": [
    "# Cambiar el tipo de datos de la columna 'otra_direccion' a str\n",
    "df_lesionesHechos['ACUSADO'] = df_lesionesHechos['ACUSADO'].astype(str)"
   ]
  },
  {
   "cell_type": "code",
   "execution_count": 36,
   "metadata": {},
   "outputs": [],
   "source": [
    "# Cambiar el nombre de la columna 'participantes' a 'PARTICIPANTES'\n",
    "df_lesionesHechos.rename(columns={'participantes': 'PARTICIPANTES'}, inplace=True)"
   ]
  },
  {
   "cell_type": "code",
   "execution_count": 69,
   "metadata": {},
   "outputs": [],
   "source": [
    "# Normalizar el texto y capitaliza la columna 'direccion_normalizada'\n",
    "df_lesionesHechos['PARTICIPANTES'] = df_lesionesHechos['PARTICIPANTES'].str.normalize('NFKD').str.encode('ascii', errors='ignore').str.decode('utf-8').str.title()"
   ]
  },
  {
   "cell_type": "code",
   "execution_count": 70,
   "metadata": {},
   "outputs": [],
   "source": [
    "# Cambiar el tipo de datos de la columna 'otra_direccion' a str\n",
    "df_lesionesHechos['PARTICIPANTES'] = df_lesionesHechos['PARTICIPANTES'].astype(str)"
   ]
  },
  {
   "cell_type": "code",
   "execution_count": 34,
   "metadata": {},
   "outputs": [],
   "source": [
    "# Listar de nombres de columnas a eliminar\n",
    "columnas_a_eliminar = ['fecha', 'franja_hora', 'comuna', 'tipo_calle', 'calle', 'altura', 'cruce', 'moto', 'auto', 'transporte_publico', 'camion', 'ciclista', 'gravedad']\n",
    "\n",
    "# Eliminar las columnas especificadas\n",
    "df_lesionesHechos = df_lesionesHechos.drop(columns=columnas_a_eliminar)"
   ]
  },
  {
   "cell_type": "code",
   "execution_count": 71,
   "metadata": {},
   "outputs": [
    {
     "data": {
      "text/html": [
       "<div>\n",
       "<style scoped>\n",
       "    .dataframe tbody tr th:only-of-type {\n",
       "        vertical-align: middle;\n",
       "    }\n",
       "\n",
       "    .dataframe tbody tr th {\n",
       "        vertical-align: top;\n",
       "    }\n",
       "\n",
       "    .dataframe thead th {\n",
       "        text-align: right;\n",
       "    }\n",
       "</style>\n",
       "<table border=\"1\" class=\"dataframe\">\n",
       "  <thead>\n",
       "    <tr style=\"text-align: right;\">\n",
       "      <th></th>\n",
       "      <th>ID_LESIONES</th>\n",
       "      <th>VICTIMAS</th>\n",
       "      <th>AÑO</th>\n",
       "      <th>MES</th>\n",
       "      <th>DIA</th>\n",
       "      <th>HORA</th>\n",
       "      <th>DIRECCION_NORMALIZADA</th>\n",
       "      <th>DIRECCION</th>\n",
       "      <th>XY_CABA</th>\n",
       "      <th>LONGITUD</th>\n",
       "      <th>LATITUD</th>\n",
       "      <th>VICTIMA</th>\n",
       "      <th>ACUSADO</th>\n",
       "      <th>PARTICIPANTES</th>\n",
       "    </tr>\n",
       "  </thead>\n",
       "  <tbody>\n",
       "    <tr>\n",
       "      <th>0</th>\n",
       "      <td>LC-2019-0000179</td>\n",
       "      <td>1</td>\n",
       "      <td>2019</td>\n",
       "      <td>1</td>\n",
       "      <td>1</td>\n",
       "      <td>9:00</td>\n",
       "      <td>Obligado Rafael, Av.Costanera 3300, Barrio: Pa...</td>\n",
       "      <td>Obligado Rafael, Av.Costanera 3300, Barrio: Pa...</td>\n",
       "      <td>104991.46333918849995825, 107720.9664748142677...</td>\n",
       "      <td>-58.408911</td>\n",
       "      <td>-34.559658</td>\n",
       "      <td>Ciclista</td>\n",
       "      <td>Sd</td>\n",
       "      <td>Ciclista-Sd</td>\n",
       "    </tr>\n",
       "  </tbody>\n",
       "</table>\n",
       "</div>"
      ],
      "text/plain": [
       "       ID_LESIONES  VICTIMAS   AÑO  MES  DIA  HORA  \\\n",
       "0  LC-2019-0000179         1  2019    1    1  9:00   \n",
       "\n",
       "                               DIRECCION_NORMALIZADA  \\\n",
       "0  Obligado Rafael, Av.Costanera 3300, Barrio: Pa...   \n",
       "\n",
       "                                           DIRECCION  \\\n",
       "0  Obligado Rafael, Av.Costanera 3300, Barrio: Pa...   \n",
       "\n",
       "                                             XY_CABA    LONGITUD     LATITUD  \\\n",
       "0  104991.46333918849995825, 107720.9664748142677...  -58.408911  -34.559658   \n",
       "\n",
       "    VICTIMA ACUSADO PARTICIPANTES  \n",
       "0  Ciclista      Sd   Ciclista-Sd  "
      ]
     },
     "execution_count": 71,
     "metadata": {},
     "output_type": "execute_result"
    }
   ],
   "source": [
    "pd.set_option('display.max_columns', None)\n",
    "df_lesionesHechos.head(1)"
   ]
  },
  {
   "cell_type": "code",
   "execution_count": 72,
   "metadata": {},
   "outputs": [
    {
     "name": "stdout",
     "output_type": "stream",
     "text": [
      "<class 'pandas.core.frame.DataFrame'>\n",
      "RangeIndex: 23785 entries, 0 to 23784\n",
      "Data columns (total 14 columns):\n",
      " #   Column                 Non-Null Count  Dtype \n",
      "---  ------                 --------------  ----- \n",
      " 0   ID_LESIONES            23785 non-null  object\n",
      " 1   VICTIMAS               23785 non-null  int64 \n",
      " 2   AÑO                    23785 non-null  int64 \n",
      " 3   MES                    23785 non-null  int64 \n",
      " 4   DIA                    23785 non-null  int64 \n",
      " 5   HORA                   23785 non-null  object\n",
      " 6   DIRECCION_NORMALIZADA  23785 non-null  object\n",
      " 7   DIRECCION              23785 non-null  object\n",
      " 8   XY_CABA                23785 non-null  object\n",
      " 9   LONGITUD               23523 non-null  object\n",
      " 10  LATITUD                23523 non-null  object\n",
      " 11  VICTIMA                23785 non-null  object\n",
      " 12  ACUSADO                23785 non-null  object\n",
      " 13  PARTICIPANTES          23785 non-null  object\n",
      "dtypes: int64(4), object(10)\n",
      "memory usage: 2.5+ MB\n"
     ]
    }
   ],
   "source": [
    "df_lesionesHechos.info()"
   ]
  },
  {
   "cell_type": "code",
   "execution_count": 73,
   "metadata": {},
   "outputs": [],
   "source": [
    "# Guarda el DataFrame despues del ETL en un archivo CSV\n",
    "df_lesionesHechos = df_lesionesHechos.to_csv('..//data//lesiones_hechos_etl.csv')"
   ]
  },
  {
   "cell_type": "markdown",
   "metadata": {},
   "source": [
    "## Trabajemos en conformar el Dataframe que englobe a los Lesiones-Victimas"
   ]
  },
  {
   "cell_type": "code",
   "execution_count": 75,
   "metadata": {},
   "outputs": [
    {
     "data": {
      "text/html": [
       "<div>\n",
       "<style scoped>\n",
       "    .dataframe tbody tr th:only-of-type {\n",
       "        vertical-align: middle;\n",
       "    }\n",
       "\n",
       "    .dataframe tbody tr th {\n",
       "        vertical-align: top;\n",
       "    }\n",
       "\n",
       "    .dataframe thead th {\n",
       "        text-align: right;\n",
       "    }\n",
       "</style>\n",
       "<table border=\"1\" class=\"dataframe\">\n",
       "  <thead>\n",
       "    <tr style=\"text-align: right;\">\n",
       "      <th></th>\n",
       "      <th>ID hecho</th>\n",
       "      <th>AAA</th>\n",
       "      <th>MM</th>\n",
       "      <th>DD</th>\n",
       "      <th>FECHA</th>\n",
       "      <th>VEHICULO_VICTIMA</th>\n",
       "      <th>SEXO</th>\n",
       "      <th>EDAD_VICTIMA</th>\n",
       "      <th>GRAVEDAD</th>\n",
       "    </tr>\n",
       "  </thead>\n",
       "  <tbody>\n",
       "    <tr>\n",
       "      <th>0</th>\n",
       "      <td>LC-2019-0000053</td>\n",
       "      <td>2019</td>\n",
       "      <td>1</td>\n",
       "      <td>1</td>\n",
       "      <td>1/1/2019</td>\n",
       "      <td>sd</td>\n",
       "      <td>Varon</td>\n",
       "      <td>57</td>\n",
       "      <td>SD</td>\n",
       "    </tr>\n",
       "    <tr>\n",
       "      <th>1</th>\n",
       "      <td>LC-2019-0000063</td>\n",
       "      <td>2019</td>\n",
       "      <td>1</td>\n",
       "      <td>1</td>\n",
       "      <td>1/1/2019</td>\n",
       "      <td>sd</td>\n",
       "      <td>SD</td>\n",
       "      <td>SD</td>\n",
       "      <td>SD</td>\n",
       "    </tr>\n",
       "    <tr>\n",
       "      <th>2</th>\n",
       "      <td>LC-2019-0000079</td>\n",
       "      <td>2019</td>\n",
       "      <td>1</td>\n",
       "      <td>1</td>\n",
       "      <td>1/1/2019</td>\n",
       "      <td>sd</td>\n",
       "      <td>Varon</td>\n",
       "      <td>SD</td>\n",
       "      <td>SD</td>\n",
       "    </tr>\n",
       "    <tr>\n",
       "      <th>3</th>\n",
       "      <td>LC-2019-0000082</td>\n",
       "      <td>2019</td>\n",
       "      <td>1</td>\n",
       "      <td>1</td>\n",
       "      <td>1/1/2019</td>\n",
       "      <td>sd</td>\n",
       "      <td>Varon</td>\n",
       "      <td>45</td>\n",
       "      <td>SD</td>\n",
       "    </tr>\n",
       "    <tr>\n",
       "      <th>4</th>\n",
       "      <td>LC-2019-0000082</td>\n",
       "      <td>2019</td>\n",
       "      <td>1</td>\n",
       "      <td>1</td>\n",
       "      <td>1/1/2019</td>\n",
       "      <td>sd</td>\n",
       "      <td>Mujer</td>\n",
       "      <td>45</td>\n",
       "      <td>SD</td>\n",
       "    </tr>\n",
       "    <tr>\n",
       "      <th>...</th>\n",
       "      <td>...</td>\n",
       "      <td>...</td>\n",
       "      <td>...</td>\n",
       "      <td>...</td>\n",
       "      <td>...</td>\n",
       "      <td>...</td>\n",
       "      <td>...</td>\n",
       "      <td>...</td>\n",
       "      <td>...</td>\n",
       "    </tr>\n",
       "    <tr>\n",
       "      <th>27600</th>\n",
       "      <td>LC-2021-0451911</td>\n",
       "      <td>2021</td>\n",
       "      <td>9</td>\n",
       "      <td>11</td>\n",
       "      <td>11/9/2021</td>\n",
       "      <td>TRANSPORTE PUBLICO</td>\n",
       "      <td>Varon</td>\n",
       "      <td>87</td>\n",
       "      <td>SD</td>\n",
       "    </tr>\n",
       "    <tr>\n",
       "      <th>27601</th>\n",
       "      <td>LC-2021-0530228</td>\n",
       "      <td>2021</td>\n",
       "      <td>10</td>\n",
       "      <td>25</td>\n",
       "      <td>25/10/2021</td>\n",
       "      <td>TRANSPORTE PUBLICO</td>\n",
       "      <td>Mujer</td>\n",
       "      <td>60</td>\n",
       "      <td>SD</td>\n",
       "    </tr>\n",
       "    <tr>\n",
       "      <th>27602</th>\n",
       "      <td>LC-2021-0530228</td>\n",
       "      <td>2021</td>\n",
       "      <td>10</td>\n",
       "      <td>25</td>\n",
       "      <td>25/10/2021</td>\n",
       "      <td>TRANSPORTE PUBLICO</td>\n",
       "      <td>Mujer</td>\n",
       "      <td>32</td>\n",
       "      <td>SD</td>\n",
       "    </tr>\n",
       "    <tr>\n",
       "      <th>27603</th>\n",
       "      <td>LC-2021-0201378</td>\n",
       "      <td>2021</td>\n",
       "      <td>5</td>\n",
       "      <td>2</td>\n",
       "      <td>2/5/2021</td>\n",
       "      <td>MOTO</td>\n",
       "      <td>Varon</td>\n",
       "      <td>32</td>\n",
       "      <td>SD</td>\n",
       "    </tr>\n",
       "    <tr>\n",
       "      <th>27604</th>\n",
       "      <td>LC-2021-0229350</td>\n",
       "      <td>2021</td>\n",
       "      <td>5</td>\n",
       "      <td>19</td>\n",
       "      <td>19/5/2021</td>\n",
       "      <td>MOTO</td>\n",
       "      <td>Varon</td>\n",
       "      <td>41</td>\n",
       "      <td>SD</td>\n",
       "    </tr>\n",
       "  </tbody>\n",
       "</table>\n",
       "<p>27605 rows × 9 columns</p>\n",
       "</div>"
      ],
      "text/plain": [
       "              ID hecho   AAA  MM  DD      FECHA     VEHICULO_VICTIMA   SEXO  \\\n",
       "0      LC-2019-0000053  2019   1   1    1/1/2019                  sd  Varon   \n",
       "1      LC-2019-0000063  2019   1   1    1/1/2019                  sd     SD   \n",
       "2      LC-2019-0000079  2019   1   1    1/1/2019                  sd  Varon   \n",
       "3      LC-2019-0000082  2019   1   1    1/1/2019                  sd  Varon   \n",
       "4      LC-2019-0000082  2019   1   1    1/1/2019                  sd  Mujer   \n",
       "...                ...   ...  ..  ..         ...                 ...    ...   \n",
       "27600  LC-2021-0451911  2021   9  11   11/9/2021  TRANSPORTE PUBLICO  Varon   \n",
       "27601  LC-2021-0530228  2021  10  25  25/10/2021  TRANSPORTE PUBLICO  Mujer   \n",
       "27602  LC-2021-0530228  2021  10  25  25/10/2021  TRANSPORTE PUBLICO  Mujer   \n",
       "27603  LC-2021-0201378  2021   5   2    2/5/2021                MOTO  Varon   \n",
       "27604  LC-2021-0229350  2021   5  19   19/5/2021                MOTO  Varon   \n",
       "\n",
       "      EDAD_VICTIMA GRAVEDAD  \n",
       "0               57       SD  \n",
       "1               SD       SD  \n",
       "2               SD       SD  \n",
       "3               45       SD  \n",
       "4               45       SD  \n",
       "...            ...      ...  \n",
       "27600           87       SD  \n",
       "27601           60       SD  \n",
       "27602           32       SD  \n",
       "27603           32       SD  \n",
       "27604           41       SD  \n",
       "\n",
       "[27605 rows x 9 columns]"
      ]
     },
     "execution_count": 75,
     "metadata": {},
     "output_type": "execute_result"
    }
   ],
   "source": [
    "df_lesionesVictimas = pd.read_csv('..//data//lesiones victimas.csv')\n",
    "df_lesionesVictimas"
   ]
  },
  {
   "cell_type": "code",
   "execution_count": 76,
   "metadata": {},
   "outputs": [
    {
     "name": "stdout",
     "output_type": "stream",
     "text": [
      "<class 'pandas.core.frame.DataFrame'>\n",
      "RangeIndex: 27605 entries, 0 to 27604\n",
      "Data columns (total 9 columns):\n",
      " #   Column            Non-Null Count  Dtype \n",
      "---  ------            --------------  ----- \n",
      " 0   ID hecho          27605 non-null  object\n",
      " 1   AAA               27605 non-null  int64 \n",
      " 2   MM                27605 non-null  int64 \n",
      " 3   DD                27605 non-null  int64 \n",
      " 4   FECHA             27605 non-null  object\n",
      " 5   VEHICULO_VICTIMA  27605 non-null  object\n",
      " 6   SEXO              27605 non-null  object\n",
      " 7   EDAD_VICTIMA      27605 non-null  object\n",
      " 8   GRAVEDAD          27605 non-null  object\n",
      "dtypes: int64(3), object(6)\n",
      "memory usage: 1.9+ MB\n"
     ]
    }
   ],
   "source": [
    "df_lesionesVictimas.info()"
   ]
  },
  {
   "cell_type": "code",
   "execution_count": 78,
   "metadata": {},
   "outputs": [],
   "source": [
    "# Cambiar el tipo de datos de la columna 'ID hecho' a str\n",
    "df_lesionesVictimas['ID hecho'] = df_lesionesVictimas['ID hecho'].astype(str)"
   ]
  },
  {
   "cell_type": "code",
   "execution_count": 79,
   "metadata": {},
   "outputs": [],
   "source": [
    "# Cambiar el nombre de la columna 'ID hecho' a 'ID_LESIONES'\n",
    "df_lesionesVictimas.rename(columns={'ID hecho': 'ID_LESIONES'}, inplace=True)"
   ]
  },
  {
   "cell_type": "code",
   "execution_count": 80,
   "metadata": {},
   "outputs": [],
   "source": [
    "# Cambiar el nombre de la columna 'AAAA' a 'AÑO'\n",
    "df_lesionesVictimas.rename(columns={'AAAAo': 'AÑO'}, inplace=True)"
   ]
  },
  {
   "cell_type": "code",
   "execution_count": 81,
   "metadata": {},
   "outputs": [],
   "source": [
    "# Cambiar el nombre de la columna 'MM' a 'ID_LESIONES'\n",
    "df_lesionesVictimas.rename(columns={'MM': 'MES'}, inplace=True)"
   ]
  },
  {
   "cell_type": "code",
   "execution_count": 82,
   "metadata": {},
   "outputs": [],
   "source": [
    "# Cambiar el nombre de la columna 'DD' a 'DIA'\n",
    "df_lesionesVictimas.rename(columns={'DD': 'DIA'}, inplace=True)"
   ]
  },
  {
   "cell_type": "code",
   "execution_count": 84,
   "metadata": {},
   "outputs": [],
   "source": [
    "# Normalizar el texto y capitaliza la columna 'VEHICULO_VICTIMA'\n",
    "df_lesionesVictimas['VEHICULO_VICTIMA'] = df_lesionesVictimas['VEHICULO_VICTIMA'].str.normalize('NFKD').str.encode('ascii', errors='ignore').str.decode('utf-8').str.title()"
   ]
  },
  {
   "cell_type": "code",
   "execution_count": 85,
   "metadata": {},
   "outputs": [],
   "source": [
    "# Cambiar el tipo de datos de la columna 'VEHICULO_VICTIMA' a str\n",
    "df_lesionesVictimas['VEHICULO_VICTIMA'] = df_lesionesVictimas['VEHICULO_VICTIMA'].astype(str)"
   ]
  },
  {
   "cell_type": "code",
   "execution_count": 86,
   "metadata": {},
   "outputs": [],
   "source": [
    "# Normalizar el texto y capitaliza la columna 'SEXO'\n",
    "df_lesionesVictimas['SEXO'] = df_lesionesVictimas['SEXO'].str.normalize('NFKD').str.encode('ascii', errors='ignore').str.decode('utf-8').str.title()"
   ]
  },
  {
   "cell_type": "code",
   "execution_count": 87,
   "metadata": {},
   "outputs": [],
   "source": [
    "# Cambiar el tipo de datos de la columna 'SEXO' a str\n",
    "df_lesionesVictimas['SEXO'] = df_lesionesVictimas['SEXO'].astype(str)"
   ]
  },
  {
   "cell_type": "code",
   "execution_count": 88,
   "metadata": {},
   "outputs": [
    {
     "data": {
      "text/plain": [
       "20722"
      ]
     },
     "execution_count": 88,
     "metadata": {},
     "output_type": "execute_result"
    }
   ],
   "source": [
    "# Contar el número de veces que aparece 'SD' en la columna 'GRAVEDAD' \n",
    "conteo_sd = df_lesionesVictimas['GRAVEDAD'].value_counts().get('SD', 0)\n",
    "conteo_sd # Al revisar el valor, se decide eleiminar la columna, ya que no representa porcentualmente peso"
   ]
  },
  {
   "cell_type": "code",
   "execution_count": 92,
   "metadata": {},
   "outputs": [],
   "source": [
    "# Listar de nombres de columnas a eliminar\n",
    "columnas_a_eliminar = ['FECHA ', 'GRAVEDAD']\n",
    "\n",
    "# Eliminar las columnas especificadas\n",
    "df_lesionesVictimas = df_lesionesVictimas.drop(columns=columnas_a_eliminar)"
   ]
  },
  {
   "cell_type": "code",
   "execution_count": 93,
   "metadata": {},
   "outputs": [
    {
     "data": {
      "text/html": [
       "<div>\n",
       "<style scoped>\n",
       "    .dataframe tbody tr th:only-of-type {\n",
       "        vertical-align: middle;\n",
       "    }\n",
       "\n",
       "    .dataframe tbody tr th {\n",
       "        vertical-align: top;\n",
       "    }\n",
       "\n",
       "    .dataframe thead th {\n",
       "        text-align: right;\n",
       "    }\n",
       "</style>\n",
       "<table border=\"1\" class=\"dataframe\">\n",
       "  <thead>\n",
       "    <tr style=\"text-align: right;\">\n",
       "      <th></th>\n",
       "      <th>ID_LESIONES</th>\n",
       "      <th>AAA</th>\n",
       "      <th>MES</th>\n",
       "      <th>DIA</th>\n",
       "      <th>VEHICULO_VICTIMA</th>\n",
       "      <th>SEXO</th>\n",
       "      <th>EDAD_VICTIMA</th>\n",
       "    </tr>\n",
       "  </thead>\n",
       "  <tbody>\n",
       "    <tr>\n",
       "      <th>0</th>\n",
       "      <td>LC-2019-0000053</td>\n",
       "      <td>2019</td>\n",
       "      <td>1</td>\n",
       "      <td>1</td>\n",
       "      <td>Sd</td>\n",
       "      <td>Varon</td>\n",
       "      <td>57</td>\n",
       "    </tr>\n",
       "  </tbody>\n",
       "</table>\n",
       "</div>"
      ],
      "text/plain": [
       "       ID_LESIONES   AAA  MES  DIA VEHICULO_VICTIMA   SEXO EDAD_VICTIMA\n",
       "0  LC-2019-0000053  2019    1    1               Sd  Varon           57"
      ]
     },
     "execution_count": 93,
     "metadata": {},
     "output_type": "execute_result"
    }
   ],
   "source": [
    "df_lesionesVictimas.head(1)"
   ]
  },
  {
   "cell_type": "code",
   "execution_count": 94,
   "metadata": {},
   "outputs": [
    {
     "name": "stdout",
     "output_type": "stream",
     "text": [
      "<class 'pandas.core.frame.DataFrame'>\n",
      "RangeIndex: 27605 entries, 0 to 27604\n",
      "Data columns (total 7 columns):\n",
      " #   Column            Non-Null Count  Dtype \n",
      "---  ------            --------------  ----- \n",
      " 0   ID_LESIONES       27605 non-null  object\n",
      " 1   AAA               27605 non-null  int64 \n",
      " 2   MES               27605 non-null  int64 \n",
      " 3   DIA               27605 non-null  int64 \n",
      " 4   VEHICULO_VICTIMA  27605 non-null  object\n",
      " 5   SEXO              27605 non-null  object\n",
      " 6   EDAD_VICTIMA      27605 non-null  object\n",
      "dtypes: int64(3), object(4)\n",
      "memory usage: 1.5+ MB\n"
     ]
    }
   ],
   "source": [
    "df_lesionesVictimas.info()"
   ]
  },
  {
   "cell_type": "code",
   "execution_count": 95,
   "metadata": {},
   "outputs": [],
   "source": [
    "# Guarda el DataFrame despues del ETL en un archivo CSV\n",
    "df_lesionesVictimas = df_lesionesVictimas.to_csv('..//data//lesiones_victimas_etl.csv')"
   ]
  }
 ],
 "metadata": {
  "kernelspec": {
   "display_name": "venv",
   "language": "python",
   "name": "python3"
  },
  "language_info": {
   "codemirror_mode": {
    "name": "ipython",
    "version": 3
   },
   "file_extension": ".py",
   "mimetype": "text/x-python",
   "name": "python",
   "nbconvert_exporter": "python",
   "pygments_lexer": "ipython3",
   "version": "3.12.3"
  }
 },
 "nbformat": 4,
 "nbformat_minor": 2
}
