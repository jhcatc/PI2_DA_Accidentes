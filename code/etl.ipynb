{
 "cells": [
  {
   "cell_type": "code",
   "execution_count": 2,
   "metadata": {},
   "outputs": [],
   "source": [
    "import pandas as pd\n",
    "import numpy as np"
   ]
  },
  {
   "cell_type": "markdown",
   "metadata": {},
   "source": [
    "## Trabajemos en conformar el Dataframe que englobe a los Homicidios-Hechos"
   ]
  },
  {
   "cell_type": "code",
   "execution_count": 187,
   "metadata": {},
   "outputs": [
    {
     "data": {
      "text/html": [
       "<div>\n",
       "<style scoped>\n",
       "    .dataframe tbody tr th:only-of-type {\n",
       "        vertical-align: middle;\n",
       "    }\n",
       "\n",
       "    .dataframe tbody tr th {\n",
       "        vertical-align: top;\n",
       "    }\n",
       "\n",
       "    .dataframe thead th {\n",
       "        text-align: right;\n",
       "    }\n",
       "</style>\n",
       "<table border=\"1\" class=\"dataframe\">\n",
       "  <thead>\n",
       "    <tr style=\"text-align: right;\">\n",
       "      <th></th>\n",
       "      <th>ID</th>\n",
       "      <th>N_VICTIMAS</th>\n",
       "      <th>FECHA</th>\n",
       "      <th>AAAA</th>\n",
       "      <th>MM</th>\n",
       "      <th>DD</th>\n",
       "      <th>HORA</th>\n",
       "      <th>HH</th>\n",
       "      <th>LUGAR_DEL_HECHO</th>\n",
       "      <th>TIPO_DE_CALLE</th>\n",
       "      <th>...</th>\n",
       "      <th>Altura</th>\n",
       "      <th>Cruce</th>\n",
       "      <th>Dirección Normalizada</th>\n",
       "      <th>COMUNA</th>\n",
       "      <th>XY (CABA)</th>\n",
       "      <th>pos x</th>\n",
       "      <th>pos y</th>\n",
       "      <th>PARTICIPANTES</th>\n",
       "      <th>VICTIMA</th>\n",
       "      <th>ACUSADO</th>\n",
       "    </tr>\n",
       "  </thead>\n",
       "  <tbody>\n",
       "    <tr>\n",
       "      <th>0</th>\n",
       "      <td>2016-0001</td>\n",
       "      <td>1</td>\n",
       "      <td>1/1/2016</td>\n",
       "      <td>2016</td>\n",
       "      <td>1</td>\n",
       "      <td>1</td>\n",
       "      <td>4:00:00</td>\n",
       "      <td>4</td>\n",
       "      <td>AV PIEDRA BUENA Y AV FERNANDEZ DE LA CRUZ</td>\n",
       "      <td>AVENIDA</td>\n",
       "      <td>...</td>\n",
       "      <td>NaN</td>\n",
       "      <td>FERNANDEZ DE LA CRUZ, F., GRAL. AV.</td>\n",
       "      <td>PIEDRA BUENA AV. y FERNANDEZ DE LA CRUZ, F., G...</td>\n",
       "      <td>8</td>\n",
       "      <td>Point (98896.78238426 93532.43437792)</td>\n",
       "      <td>-58.47533969</td>\n",
       "      <td>-34.68757022</td>\n",
       "      <td>MOTO-AUTO</td>\n",
       "      <td>MOTO</td>\n",
       "      <td>AUTO</td>\n",
       "    </tr>\n",
       "  </tbody>\n",
       "</table>\n",
       "<p>1 rows × 21 columns</p>\n",
       "</div>"
      ],
      "text/plain": [
       "          ID  N_VICTIMAS     FECHA  AAAA  MM  DD     HORA HH  \\\n",
       "0  2016-0001           1  1/1/2016  2016   1   1  4:00:00  4   \n",
       "\n",
       "                             LUGAR_DEL_HECHO TIPO_DE_CALLE  ... Altura  \\\n",
       "0  AV PIEDRA BUENA Y AV FERNANDEZ DE LA CRUZ       AVENIDA  ...    NaN   \n",
       "\n",
       "                                 Cruce  \\\n",
       "0  FERNANDEZ DE LA CRUZ, F., GRAL. AV.   \n",
       "\n",
       "                               Dirección Normalizada COMUNA  \\\n",
       "0  PIEDRA BUENA AV. y FERNANDEZ DE LA CRUZ, F., G...      8   \n",
       "\n",
       "                               XY (CABA)         pos x         pos y  \\\n",
       "0  Point (98896.78238426 93532.43437792)  -58.47533969  -34.68757022   \n",
       "\n",
       "  PARTICIPANTES VICTIMA ACUSADO  \n",
       "0     MOTO-AUTO    MOTO    AUTO  \n",
       "\n",
       "[1 rows x 21 columns]"
      ]
     },
     "execution_count": 187,
     "metadata": {},
     "output_type": "execute_result"
    }
   ],
   "source": [
    "df_homicidiosHechos = pd.read_csv('..//data//homicidios hechos.csv')\n",
    "df_homicidiosHechos.head(1)"
   ]
  },
  {
   "cell_type": "code",
   "execution_count": 188,
   "metadata": {},
   "outputs": [
    {
     "name": "stdout",
     "output_type": "stream",
     "text": [
      "<class 'pandas.core.frame.DataFrame'>\n",
      "RangeIndex: 696 entries, 0 to 695\n",
      "Data columns (total 21 columns):\n",
      " #   Column                 Non-Null Count  Dtype  \n",
      "---  ------                 --------------  -----  \n",
      " 0   ID                     696 non-null    object \n",
      " 1   N_VICTIMAS             696 non-null    int64  \n",
      " 2   FECHA                  696 non-null    object \n",
      " 3   AAAA                   696 non-null    int64  \n",
      " 4   MM                     696 non-null    int64  \n",
      " 5   DD                     696 non-null    int64  \n",
      " 6   HORA                   696 non-null    object \n",
      " 7   HH                     696 non-null    object \n",
      " 8   LUGAR_DEL_HECHO        696 non-null    object \n",
      " 9   TIPO_DE_CALLE          696 non-null    object \n",
      " 10  Calle                  695 non-null    object \n",
      " 11  Altura                 129 non-null    float64\n",
      " 12  Cruce                  525 non-null    object \n",
      " 13  Dirección Normalizada  688 non-null    object \n",
      " 14  COMUNA                 696 non-null    int64  \n",
      " 15  XY (CABA)              696 non-null    object \n",
      " 16  pos x                  696 non-null    object \n",
      " 17  pos y                  696 non-null    object \n",
      " 18  PARTICIPANTES          696 non-null    object \n",
      " 19  VICTIMA                696 non-null    object \n",
      " 20  ACUSADO                696 non-null    object \n",
      "dtypes: float64(1), int64(5), object(15)\n",
      "memory usage: 114.3+ KB\n"
     ]
    }
   ],
   "source": [
    "# Consultar info del DF\n",
    "df_homicidiosHechos.info()"
   ]
  },
  {
   "cell_type": "code",
   "execution_count": 189,
   "metadata": {},
   "outputs": [],
   "source": [
    "# Cambiar el nombre de la columna 'N_VICTIMAS' a 'VICTIMAS'\n",
    "df_homicidiosHechos.rename(columns={'N_VICTIMAS': 'VICTIMAS'}, inplace=True)"
   ]
  },
  {
   "cell_type": "code",
   "execution_count": 190,
   "metadata": {},
   "outputs": [],
   "source": [
    "# Cambiar el nombre de la columna 'AAAA' a 'AÑO'\n",
    "df_homicidiosHechos.rename(columns={'AAAA': 'AÑO'}, inplace=True)"
   ]
  },
  {
   "cell_type": "code",
   "execution_count": 191,
   "metadata": {},
   "outputs": [],
   "source": [
    "# Cambiar el nombre de la columna 'MM' a 'MES'\n",
    "df_homicidiosHechos.rename(columns={'MM': 'MES'}, inplace=True)"
   ]
  },
  {
   "cell_type": "code",
   "execution_count": 192,
   "metadata": {},
   "outputs": [],
   "source": [
    "# Cambiar el nombre de la columna 'DD' a 'DIA'\n",
    "df_homicidiosHechos.rename(columns={'DD': 'DIA'}, inplace=True)"
   ]
  },
  {
   "cell_type": "code",
   "execution_count": 193,
   "metadata": {},
   "outputs": [],
   "source": [
    "# Cambiar el tipo de datos de la columna 'ID' a str\n",
    "df_homicidiosHechos['ID'] = df_homicidiosHechos['ID'].astype(str)"
   ]
  },
  {
   "cell_type": "code",
   "execution_count": 194,
   "metadata": {},
   "outputs": [],
   "source": [
    "# Cambiar el nombre de la columna 'ID' a 'id_siniestro'\n",
    "df_homicidiosHechos.rename(columns={'ID': 'ID_SINIESTRO'}, inplace=True)"
   ]
  },
  {
   "cell_type": "code",
   "execution_count": 195,
   "metadata": {},
   "outputs": [],
   "source": [
    "# Identificar y corregir los datos incorrectos en la columna 'HORA' (SD)\n",
    "df_homicidiosHechos = df_homicidiosHechos[df_homicidiosHechos['HORA'] != 'SD']"
   ]
  },
  {
   "cell_type": "code",
   "execution_count": 196,
   "metadata": {},
   "outputs": [],
   "source": [
    "# Cambiar el tipo de datos de la columna 'LUGAR_DEL_HECHO' a str\n",
    "df_homicidiosHechos['HORA'] = df_homicidiosHechos['HORA'].astype(str)"
   ]
  },
  {
   "cell_type": "code",
   "execution_count": 197,
   "metadata": {},
   "outputs": [],
   "source": [
    "# Normalizar el texto y capitaliza la columna 'LUGAR_DEL_HECHO'\n",
    "df_homicidiosHechos['LUGAR_DEL_HECHO'] = df_homicidiosHechos['LUGAR_DEL_HECHO'].str.normalize('NFKD').str.encode('ascii', errors='ignore').str.decode('utf-8').str.title()"
   ]
  },
  {
   "cell_type": "code",
   "execution_count": 198,
   "metadata": {},
   "outputs": [],
   "source": [
    "# Cambiar el tipo de datos de la columna 'LUGAR_DEL_HECHO' a str\n",
    "df_homicidiosHechos['LUGAR_DEL_HECHO'] = df_homicidiosHechos['LUGAR_DEL_HECHO'].astype(str)"
   ]
  },
  {
   "cell_type": "code",
   "execution_count": 199,
   "metadata": {},
   "outputs": [],
   "source": [
    "# Cambiar el nombre de la columna 'LUGAR_DEL_HECHO' a 'DIRECCION'\n",
    "df_homicidiosHechos.rename(columns={'LUGAR_DEL_HECHO': 'DIRECCION'}, inplace=True)"
   ]
  },
  {
   "cell_type": "code",
   "execution_count": 200,
   "metadata": {},
   "outputs": [],
   "source": [
    "# Normalizar el texto y capitaliza la columna 'LUGAR_DEL_HECHO'\n",
    "df_homicidiosHechos['Dirección Normalizada'] = df_homicidiosHechos['Dirección Normalizada'].str.normalize('NFKD').str.encode('ascii', errors='ignore').str.decode('utf-8').str.title()"
   ]
  },
  {
   "cell_type": "code",
   "execution_count": 201,
   "metadata": {},
   "outputs": [],
   "source": [
    "# Cambiar el tipo de datos de la columna 'LUGAR_DEL_HECHO' a str\n",
    "df_homicidiosHechos['Dirección Normalizada'] = df_homicidiosHechos['Dirección Normalizada'].astype(str)"
   ]
  },
  {
   "cell_type": "code",
   "execution_count": 202,
   "metadata": {},
   "outputs": [],
   "source": [
    "# Cambiar el nombre de la columna 'Dirección Normalizad' a 'DIRECCION_NORMALIZDA'\n",
    "df_homicidiosHechos.rename(columns={'Dirección Normalizada': 'DIRECCION_NORMALIZDA'}, inplace=True)"
   ]
  },
  {
   "cell_type": "code",
   "execution_count": 203,
   "metadata": {},
   "outputs": [],
   "source": [
    "# Cambiar el nombre de la columna 'XY (CABA)' a 'XY_CABA'\n",
    "df_homicidiosHechos.rename(columns={'XY (CABA)': 'XY_CABA'}, inplace=True)"
   ]
  },
  {
   "cell_type": "code",
   "execution_count": 204,
   "metadata": {},
   "outputs": [],
   "source": [
    "# Cambiar el tipo de datos de la columna 'ID' a str\n",
    "df_homicidiosHechos['XY_CABA'] = df_homicidiosHechos['XY_CABA'].astype(str)"
   ]
  },
  {
   "cell_type": "code",
   "execution_count": 205,
   "metadata": {},
   "outputs": [],
   "source": [
    "# Cambiar el nombre de la columna 'pos X' a 'POS_X'\n",
    "df_homicidiosHechos = df_homicidiosHechos.rename(columns={'pos x': 'POS_X'})"
   ]
  },
  {
   "cell_type": "code",
   "execution_count": 206,
   "metadata": {},
   "outputs": [],
   "source": [
    "# Cambiar el tipo de datos de la columna 'ID' a str\n",
    "df_homicidiosHechos['POS_X'] = df_homicidiosHechos['POS_X'].astype(str)"
   ]
  },
  {
   "cell_type": "code",
   "execution_count": 207,
   "metadata": {},
   "outputs": [],
   "source": [
    "# Cambiar el nombre de la columna 'pos y' a 'POS_Y'\n",
    "df_homicidiosHechos.rename(columns={'pos y': 'POS_Y'}, inplace=True)"
   ]
  },
  {
   "cell_type": "code",
   "execution_count": 208,
   "metadata": {},
   "outputs": [],
   "source": [
    "# Cambiar el tipo de datos de la columna 'ID' a str\n",
    "df_homicidiosHechos['POS_Y'] = df_homicidiosHechos['POS_Y'].astype(str)"
   ]
  },
  {
   "cell_type": "code",
   "execution_count": 209,
   "metadata": {},
   "outputs": [],
   "source": [
    "# Normalizar el texto y capitaliza la columna 'PARTICIPANTES'\n",
    "df_homicidiosHechos['PARTICIPANTES'] = df_homicidiosHechos['PARTICIPANTES'].str.normalize('NFKD').str.encode('ascii', errors='ignore').str.decode('utf-8').str.title()"
   ]
  },
  {
   "cell_type": "code",
   "execution_count": 210,
   "metadata": {},
   "outputs": [],
   "source": [
    "# Cambiar el tipo de datos de la columna 'LUGAR_DEL_HECHO' a str\n",
    "df_homicidiosHechos['PARTICIPANTES'] = df_homicidiosHechos['PARTICIPANTES'].astype(str)"
   ]
  },
  {
   "cell_type": "code",
   "execution_count": 211,
   "metadata": {},
   "outputs": [],
   "source": [
    "# Normalizar el texto y capitaliza la columna 'PARTICIPANTES'\n",
    "df_homicidiosHechos['VICTIMA'] = df_homicidiosHechos['VICTIMA'].str.normalize('NFKD').str.encode('ascii', errors='ignore').str.decode('utf-8').str.title()"
   ]
  },
  {
   "cell_type": "code",
   "execution_count": 212,
   "metadata": {},
   "outputs": [],
   "source": [
    "# Cambiar el tipo de datos de la columna 'LUGAR_DEL_HECHO' a str\n",
    "df_homicidiosHechos['VICTIMA'] = df_homicidiosHechos['VICTIMA'].astype(str)"
   ]
  },
  {
   "cell_type": "code",
   "execution_count": 213,
   "metadata": {},
   "outputs": [],
   "source": [
    "# Normalizar el texto y capitaliza la columna 'PARTICIPANTES'\n",
    "df_homicidiosHechos['ACUSADO'] = df_homicidiosHechos['ACUSADO'].str.normalize('NFKD').str.encode('ascii', errors='ignore').str.decode('utf-8').str.title()"
   ]
  },
  {
   "cell_type": "code",
   "execution_count": 214,
   "metadata": {},
   "outputs": [],
   "source": [
    "# Cambiar el tipo de datos de la columna 'LUGAR_DEL_HECHO' a str\n",
    "df_homicidiosHechos['ACUSADO'] = df_homicidiosHechos['ACUSADO'].astype(str)"
   ]
  },
  {
   "cell_type": "code",
   "execution_count": 215,
   "metadata": {},
   "outputs": [],
   "source": [
    "# Listar de nombres de columnas a eliminar\n",
    "columnas_a_eliminar = ['FECHA', 'HH', 'TIPO_DE_CALLE', 'Calle', 'Altura', 'Cruce']\n",
    "\n",
    "# Eliminar las columnas especificadas\n",
    "df_homicidiosHechos = df_homicidiosHechos.drop(columns=columnas_a_eliminar)"
   ]
  },
  {
   "cell_type": "code",
   "execution_count": 216,
   "metadata": {},
   "outputs": [
    {
     "data": {
      "text/html": [
       "<div>\n",
       "<style scoped>\n",
       "    .dataframe tbody tr th:only-of-type {\n",
       "        vertical-align: middle;\n",
       "    }\n",
       "\n",
       "    .dataframe tbody tr th {\n",
       "        vertical-align: top;\n",
       "    }\n",
       "\n",
       "    .dataframe thead th {\n",
       "        text-align: right;\n",
       "    }\n",
       "</style>\n",
       "<table border=\"1\" class=\"dataframe\">\n",
       "  <thead>\n",
       "    <tr style=\"text-align: right;\">\n",
       "      <th></th>\n",
       "      <th>ID_SINIESTRO</th>\n",
       "      <th>VICTIMAS</th>\n",
       "      <th>AÑO</th>\n",
       "      <th>MES</th>\n",
       "      <th>DIA</th>\n",
       "      <th>HORA</th>\n",
       "      <th>DIRECCION</th>\n",
       "      <th>DIRECCION_NORMALIZDA</th>\n",
       "      <th>COMUNA</th>\n",
       "      <th>XY_CABA</th>\n",
       "      <th>POS_X</th>\n",
       "      <th>POS_Y</th>\n",
       "      <th>PARTICIPANTES</th>\n",
       "      <th>VICTIMA</th>\n",
       "      <th>ACUSADO</th>\n",
       "    </tr>\n",
       "  </thead>\n",
       "  <tbody>\n",
       "    <tr>\n",
       "      <th>0</th>\n",
       "      <td>2016-0001</td>\n",
       "      <td>1</td>\n",
       "      <td>2016</td>\n",
       "      <td>1</td>\n",
       "      <td>1</td>\n",
       "      <td>4:00:00</td>\n",
       "      <td>Av Piedra Buena Y Av Fernandez De La Cruz</td>\n",
       "      <td>Piedra Buena Av. Y Fernandez De La Cruz, F., G...</td>\n",
       "      <td>8</td>\n",
       "      <td>Point (98896.78238426 93532.43437792)</td>\n",
       "      <td>-58.47533969</td>\n",
       "      <td>-34.68757022</td>\n",
       "      <td>Moto-Auto</td>\n",
       "      <td>Moto</td>\n",
       "      <td>Auto</td>\n",
       "    </tr>\n",
       "  </tbody>\n",
       "</table>\n",
       "</div>"
      ],
      "text/plain": [
       "  ID_SINIESTRO  VICTIMAS   AÑO  MES  DIA     HORA  \\\n",
       "0    2016-0001         1  2016    1    1  4:00:00   \n",
       "\n",
       "                                   DIRECCION  \\\n",
       "0  Av Piedra Buena Y Av Fernandez De La Cruz   \n",
       "\n",
       "                                DIRECCION_NORMALIZDA  COMUNA  \\\n",
       "0  Piedra Buena Av. Y Fernandez De La Cruz, F., G...       8   \n",
       "\n",
       "                                 XY_CABA         POS_X         POS_Y  \\\n",
       "0  Point (98896.78238426 93532.43437792)  -58.47533969  -34.68757022   \n",
       "\n",
       "  PARTICIPANTES VICTIMA ACUSADO  \n",
       "0     Moto-Auto    Moto    Auto  "
      ]
     },
     "execution_count": 216,
     "metadata": {},
     "output_type": "execute_result"
    }
   ],
   "source": [
    "df_homicidiosHechos.head(1)"
   ]
  },
  {
   "cell_type": "code",
   "execution_count": 218,
   "metadata": {},
   "outputs": [
    {
     "name": "stdout",
     "output_type": "stream",
     "text": [
      "<class 'pandas.core.frame.DataFrame'>\n",
      "Index: 695 entries, 0 to 695\n",
      "Data columns (total 15 columns):\n",
      " #   Column                Non-Null Count  Dtype \n",
      "---  ------                --------------  ----- \n",
      " 0   ID_SINIESTRO          695 non-null    object\n",
      " 1   VICTIMAS              695 non-null    int64 \n",
      " 2   AÑO                   695 non-null    int64 \n",
      " 3   MES                   695 non-null    int64 \n",
      " 4   DIA                   695 non-null    int64 \n",
      " 5   HORA                  695 non-null    object\n",
      " 6   DIRECCION             695 non-null    object\n",
      " 7   DIRECCION_NORMALIZDA  695 non-null    object\n",
      " 8   COMUNA                695 non-null    int64 \n",
      " 9   XY_CABA               695 non-null    object\n",
      " 10  POS_X                 695 non-null    object\n",
      " 11  POS_Y                 695 non-null    object\n",
      " 12  PARTICIPANTES         695 non-null    object\n",
      " 13  VICTIMA               695 non-null    object\n",
      " 14  ACUSADO               695 non-null    object\n",
      "dtypes: int64(5), object(10)\n",
      "memory usage: 86.9+ KB\n"
     ]
    }
   ],
   "source": [
    "df_homicidiosHechos.info()"
   ]
  },
  {
   "cell_type": "code",
   "execution_count": 219,
   "metadata": {},
   "outputs": [],
   "source": [
    "# Guarda el DataFrame despues del ETL en un archivo CSV\n",
    "df_homicidiosHechos = df_homicidiosHechos.to_csv('..//data//homicidios_hechos_etl.csv')"
   ]
  },
  {
   "cell_type": "markdown",
   "metadata": {},
   "source": [
    "## Trabajemos en conformar el Dataframe que englobe a los Homicidios-Victimas"
   ]
  },
  {
   "cell_type": "code",
   "execution_count": 220,
   "metadata": {},
   "outputs": [
    {
     "data": {
      "text/html": [
       "<div>\n",
       "<style scoped>\n",
       "    .dataframe tbody tr th:only-of-type {\n",
       "        vertical-align: middle;\n",
       "    }\n",
       "\n",
       "    .dataframe tbody tr th {\n",
       "        vertical-align: top;\n",
       "    }\n",
       "\n",
       "    .dataframe thead th {\n",
       "        text-align: right;\n",
       "    }\n",
       "</style>\n",
       "<table border=\"1\" class=\"dataframe\">\n",
       "  <thead>\n",
       "    <tr style=\"text-align: right;\">\n",
       "      <th></th>\n",
       "      <th>ID_hecho</th>\n",
       "      <th>FECHA</th>\n",
       "      <th>AAAA</th>\n",
       "      <th>MM</th>\n",
       "      <th>DD</th>\n",
       "      <th>ROL</th>\n",
       "      <th>VICTIMA</th>\n",
       "      <th>SEXO</th>\n",
       "      <th>EDAD</th>\n",
       "      <th>FECHA_FALLECIMIENTO</th>\n",
       "    </tr>\n",
       "  </thead>\n",
       "  <tbody>\n",
       "    <tr>\n",
       "      <th>0</th>\n",
       "      <td>2016-0001</td>\n",
       "      <td>1/1/2016</td>\n",
       "      <td>2016</td>\n",
       "      <td>1</td>\n",
       "      <td>1</td>\n",
       "      <td>CONDUCTOR</td>\n",
       "      <td>MOTO</td>\n",
       "      <td>MASCULINO</td>\n",
       "      <td>19</td>\n",
       "      <td>1/1/2016</td>\n",
       "    </tr>\n",
       "  </tbody>\n",
       "</table>\n",
       "</div>"
      ],
      "text/plain": [
       "    ID_hecho     FECHA  AAAA  MM  DD        ROL VICTIMA       SEXO EDAD  \\\n",
       "0  2016-0001  1/1/2016  2016   1   1  CONDUCTOR    MOTO  MASCULINO   19   \n",
       "\n",
       "  FECHA_FALLECIMIENTO  \n",
       "0            1/1/2016  "
      ]
     },
     "execution_count": 220,
     "metadata": {},
     "output_type": "execute_result"
    }
   ],
   "source": [
    "df_homicidiosVictimas = pd.read_csv('..//data//homicidios victimas.csv')\n",
    "df_homicidiosVictimas.head(1)"
   ]
  },
  {
   "cell_type": "code",
   "execution_count": 223,
   "metadata": {},
   "outputs": [
    {
     "name": "stdout",
     "output_type": "stream",
     "text": [
      "<class 'pandas.core.frame.DataFrame'>\n",
      "RangeIndex: 717 entries, 0 to 716\n",
      "Data columns (total 10 columns):\n",
      " #   Column               Non-Null Count  Dtype \n",
      "---  ------               --------------  ----- \n",
      " 0   ID_SINIESTRO         717 non-null    object\n",
      " 1   FECHA                717 non-null    object\n",
      " 2   AAAA                 717 non-null    int64 \n",
      " 3   MM                   717 non-null    int64 \n",
      " 4   DD                   717 non-null    int64 \n",
      " 5   ROL                  717 non-null    object\n",
      " 6   VICTIMA              717 non-null    object\n",
      " 7   SEXO                 717 non-null    object\n",
      " 8   EDAD                 717 non-null    object\n",
      " 9   FECHA_FALLECIMIENTO  717 non-null    object\n",
      "dtypes: int64(3), object(7)\n",
      "memory usage: 56.1+ KB\n"
     ]
    }
   ],
   "source": [
    "df_homicidiosVictimas.info()"
   ]
  },
  {
   "cell_type": "code",
   "execution_count": 221,
   "metadata": {},
   "outputs": [],
   "source": [
    "# Cambiar el nombre de la columna 'ID_hecho' a 'id_siniestro'\n",
    "df_homicidiosVictimas.rename(columns={'ID_hecho': 'ID_SINIESTRO'}, inplace=True)"
   ]
  },
  {
   "cell_type": "code",
   "execution_count": 224,
   "metadata": {},
   "outputs": [],
   "source": [
    "# Cambiar el nombre de la columna 'AAAA' a 'AÑO'\n",
    "df_homicidiosVictimas.rename(columns={'AAAA': 'AÑO'}, inplace=True)"
   ]
  },
  {
   "cell_type": "code",
   "execution_count": 225,
   "metadata": {},
   "outputs": [],
   "source": [
    "# Cambiar el nombre de la columna 'AAAA' a 'AÑO'\n",
    "df_homicidiosVictimas.rename(columns={'MM': 'MES'}, inplace=True)"
   ]
  },
  {
   "cell_type": "code",
   "execution_count": 226,
   "metadata": {},
   "outputs": [],
   "source": [
    "# Cambiar el nombre de la columna 'AAAA' a 'AÑO'\n",
    "df_homicidiosVictimas.rename(columns={'DD': 'DIA'}, inplace=True)"
   ]
  },
  {
   "cell_type": "code",
   "execution_count": 227,
   "metadata": {},
   "outputs": [],
   "source": [
    "# Normalizar el texto y capitaliza la columna 'ROL'\n",
    "df_homicidiosVictimas['ROL'] = df_homicidiosVictimas['ROL'].str.normalize('NFKD').str.encode('ascii', errors='ignore').str.decode('utf-8').str.title()"
   ]
  },
  {
   "cell_type": "code",
   "execution_count": 228,
   "metadata": {},
   "outputs": [],
   "source": [
    "# Cambiar el tipo de datos de la columna 'ROL' a str\n",
    "df_homicidiosVictimas['ROL'] = df_homicidiosVictimas['ROL'].astype(str)"
   ]
  },
  {
   "cell_type": "code",
   "execution_count": 229,
   "metadata": {},
   "outputs": [],
   "source": [
    "# Normalizar el texto y capitaliza la columna 'ROL'\n",
    "df_homicidiosVictimas['VICTIMA'] = df_homicidiosVictimas['VICTIMA'].str.normalize('NFKD').str.encode('ascii', errors='ignore').str.decode('utf-8').str.title()"
   ]
  },
  {
   "cell_type": "code",
   "execution_count": 230,
   "metadata": {},
   "outputs": [],
   "source": [
    "# Cambiar el tipo de datos de la columna 'ROL' a str\n",
    "df_homicidiosVictimas['VICTIMA'] = df_homicidiosVictimas['VICTIMA'].astype(str)"
   ]
  },
  {
   "cell_type": "code",
   "execution_count": 233,
   "metadata": {},
   "outputs": [],
   "source": [
    "# Normalizar el texto y capitaliza la columna 'SEXO'\n",
    "df_homicidiosVictimas['SEXO'] = df_homicidiosVictimas['SEXO'].str.normalize('NFKD').str.encode('ascii', errors='ignore').str.decode('utf-8').str.title()"
   ]
  },
  {
   "cell_type": "code",
   "execution_count": 234,
   "metadata": {},
   "outputs": [],
   "source": [
    "# Cambiar el tipo de datos de la columna 'SEXO' a str\n",
    "df_homicidiosVictimas['SEXO'] = df_homicidiosVictimas['SEXO'].astype(str)"
   ]
  },
  {
   "cell_type": "code",
   "execution_count": 236,
   "metadata": {},
   "outputs": [],
   "source": [
    "# Listar de nombres de columnas a eliminar\n",
    "columnas_a_eliminar = ['FECHA']\n",
    "\n",
    "# Eliminar las columnas especificadas\n",
    "df_homicidiosVictimas = df_homicidiosVictimas.drop(columns=columnas_a_eliminar)"
   ]
  },
  {
   "cell_type": "code",
   "execution_count": 237,
   "metadata": {},
   "outputs": [
    {
     "data": {
      "text/html": [
       "<div>\n",
       "<style scoped>\n",
       "    .dataframe tbody tr th:only-of-type {\n",
       "        vertical-align: middle;\n",
       "    }\n",
       "\n",
       "    .dataframe tbody tr th {\n",
       "        vertical-align: top;\n",
       "    }\n",
       "\n",
       "    .dataframe thead th {\n",
       "        text-align: right;\n",
       "    }\n",
       "</style>\n",
       "<table border=\"1\" class=\"dataframe\">\n",
       "  <thead>\n",
       "    <tr style=\"text-align: right;\">\n",
       "      <th></th>\n",
       "      <th>ID_SINIESTRO</th>\n",
       "      <th>AÑO</th>\n",
       "      <th>MES</th>\n",
       "      <th>DIA</th>\n",
       "      <th>ROL</th>\n",
       "      <th>VICTIMA</th>\n",
       "      <th>SEXO</th>\n",
       "      <th>EDAD</th>\n",
       "      <th>FECHA_FALLECIMIENTO</th>\n",
       "    </tr>\n",
       "  </thead>\n",
       "  <tbody>\n",
       "    <tr>\n",
       "      <th>0</th>\n",
       "      <td>2016-0001</td>\n",
       "      <td>2016</td>\n",
       "      <td>1</td>\n",
       "      <td>1</td>\n",
       "      <td>Conductor</td>\n",
       "      <td>Moto</td>\n",
       "      <td>Masculino</td>\n",
       "      <td>19</td>\n",
       "      <td>1/1/2016</td>\n",
       "    </tr>\n",
       "  </tbody>\n",
       "</table>\n",
       "</div>"
      ],
      "text/plain": [
       "  ID_SINIESTRO   AÑO  MES  DIA        ROL VICTIMA       SEXO EDAD  \\\n",
       "0    2016-0001  2016    1    1  Conductor    Moto  Masculino   19   \n",
       "\n",
       "  FECHA_FALLECIMIENTO  \n",
       "0            1/1/2016  "
      ]
     },
     "execution_count": 237,
     "metadata": {},
     "output_type": "execute_result"
    }
   ],
   "source": [
    "df_homicidiosVictimas.head(1)"
   ]
  },
  {
   "cell_type": "code",
   "execution_count": 238,
   "metadata": {},
   "outputs": [
    {
     "name": "stdout",
     "output_type": "stream",
     "text": [
      "<class 'pandas.core.frame.DataFrame'>\n",
      "RangeIndex: 717 entries, 0 to 716\n",
      "Data columns (total 9 columns):\n",
      " #   Column               Non-Null Count  Dtype \n",
      "---  ------               --------------  ----- \n",
      " 0   ID_SINIESTRO         717 non-null    object\n",
      " 1   AÑO                  717 non-null    int64 \n",
      " 2   MES                  717 non-null    int64 \n",
      " 3   DIA                  717 non-null    int64 \n",
      " 4   ROL                  717 non-null    object\n",
      " 5   VICTIMA              717 non-null    object\n",
      " 6   SEXO                 717 non-null    object\n",
      " 7   EDAD                 717 non-null    object\n",
      " 8   FECHA_FALLECIMIENTO  717 non-null    object\n",
      "dtypes: int64(3), object(6)\n",
      "memory usage: 50.5+ KB\n"
     ]
    }
   ],
   "source": [
    "df_homicidiosVictimas.info()"
   ]
  },
  {
   "cell_type": "code",
   "execution_count": 239,
   "metadata": {},
   "outputs": [],
   "source": [
    "# Guarda el DataFrame despues del ETL en un archivo CSV\n",
    "df_homicidiosVictimas = df_homicidiosVictimas.to_csv('..//data//homicidios_victimas_etl.csv')"
   ]
  },
  {
   "cell_type": "markdown",
   "metadata": {},
   "source": [
    "## Trabajemos en conformar el Dataframe que englobe a los Lesiones-Hechos"
   ]
  },
  {
   "cell_type": "code",
   "execution_count": 4,
   "metadata": {},
   "outputs": [
    {
     "data": {
      "text/html": [
       "<div>\n",
       "<style scoped>\n",
       "    .dataframe tbody tr th:only-of-type {\n",
       "        vertical-align: middle;\n",
       "    }\n",
       "\n",
       "    .dataframe tbody tr th {\n",
       "        vertical-align: top;\n",
       "    }\n",
       "\n",
       "    .dataframe thead th {\n",
       "        text-align: right;\n",
       "    }\n",
       "</style>\n",
       "<table border=\"1\" class=\"dataframe\">\n",
       "  <thead>\n",
       "    <tr style=\"text-align: right;\">\n",
       "      <th></th>\n",
       "      <th>id</th>\n",
       "      <th>n_victimas</th>\n",
       "      <th>aaaa</th>\n",
       "      <th>mm</th>\n",
       "      <th>dd</th>\n",
       "      <th>fecha</th>\n",
       "      <th>hora</th>\n",
       "      <th>franja_hora</th>\n",
       "      <th>direccion_normalizada</th>\n",
       "      <th>comuna</th>\n",
       "      <th>...</th>\n",
       "      <th>latutid</th>\n",
       "      <th>victima</th>\n",
       "      <th>acusado</th>\n",
       "      <th>participantes</th>\n",
       "      <th>moto</th>\n",
       "      <th>auto</th>\n",
       "      <th>transporte_publico</th>\n",
       "      <th>camion</th>\n",
       "      <th>ciclista</th>\n",
       "      <th>gravedad</th>\n",
       "    </tr>\n",
       "  </thead>\n",
       "  <tbody>\n",
       "    <tr>\n",
       "      <th>0</th>\n",
       "      <td>LC-2019-0000179</td>\n",
       "      <td>1</td>\n",
       "      <td>2019</td>\n",
       "      <td>1</td>\n",
       "      <td>1</td>\n",
       "      <td>1/1/2019</td>\n",
       "      <td>9:00</td>\n",
       "      <td>9</td>\n",
       "      <td>SD</td>\n",
       "      <td>14</td>\n",
       "      <td>...</td>\n",
       "      <td>-34.559658</td>\n",
       "      <td>CICLISTA</td>\n",
       "      <td>SD</td>\n",
       "      <td>CICLISTA-SD</td>\n",
       "      <td>SD</td>\n",
       "      <td>SD</td>\n",
       "      <td>SD</td>\n",
       "      <td>SD</td>\n",
       "      <td>x</td>\n",
       "      <td>SD</td>\n",
       "    </tr>\n",
       "  </tbody>\n",
       "</table>\n",
       "<p>1 rows × 27 columns</p>\n",
       "</div>"
      ],
      "text/plain": [
       "                id  n_victimas  aaaa  mm  dd     fecha  hora franja_hora  \\\n",
       "0  LC-2019-0000179           1  2019   1   1  1/1/2019  9:00           9   \n",
       "\n",
       "  direccion_normalizada comuna  ...     latutid   victima acusado  \\\n",
       "0                    SD     14  ...  -34.559658  CICLISTA      SD   \n",
       "\n",
       "   participantes moto auto transporte_publico camion ciclista gravedad  \n",
       "0    CICLISTA-SD   SD   SD                 SD     SD        x       SD  \n",
       "\n",
       "[1 rows x 27 columns]"
      ]
     },
     "execution_count": 4,
     "metadata": {},
     "output_type": "execute_result"
    }
   ],
   "source": [
    "df_lesionesHechos = pd.read_csv('..//data//lesiones hechos.csv')\n",
    "df_lesionesHechos.head(1)"
   ]
  },
  {
   "cell_type": "code",
   "execution_count": 5,
   "metadata": {},
   "outputs": [
    {
     "name": "stdout",
     "output_type": "stream",
     "text": [
      "<class 'pandas.core.frame.DataFrame'>\n",
      "RangeIndex: 23785 entries, 0 to 23784\n",
      "Data columns (total 27 columns):\n",
      " #   Column                 Non-Null Count  Dtype  \n",
      "---  ------                 --------------  -----  \n",
      " 0   id                     23785 non-null  object \n",
      " 1   n_victimas             23785 non-null  int64  \n",
      " 2   aaaa                   23785 non-null  int64  \n",
      " 3   mm                     23785 non-null  int64  \n",
      " 4   dd                     23785 non-null  int64  \n",
      " 5   fecha                  23785 non-null  object \n",
      " 6   hora                   23785 non-null  object \n",
      " 7   franja_hora            23780 non-null  object \n",
      " 8   direccion_normalizada  23732 non-null  object \n",
      " 9   comuna                 23616 non-null  object \n",
      " 10  tipo_calle             23785 non-null  object \n",
      " 11  otra_direccion         23785 non-null  object \n",
      " 12  calle                  12867 non-null  object \n",
      " 13  altura                 12771 non-null  float64\n",
      " 14  cruce                  9407 non-null   object \n",
      " 15  geocodificacion_CABA   23746 non-null  object \n",
      " 16  longitud               23523 non-null  object \n",
      " 17  latutid                23523 non-null  object \n",
      " 18  victima                23785 non-null  object \n",
      " 19  acusado                23785 non-null  object \n",
      " 20  participantes          23785 non-null  object \n",
      " 21  moto                   23692 non-null  object \n",
      " 22  auto                   23692 non-null  object \n",
      " 23  transporte_publico     23692 non-null  object \n",
      " 24  camion                 23692 non-null  object \n",
      " 25  ciclista               23692 non-null  object \n",
      " 26  gravedad               23785 non-null  object \n",
      "dtypes: float64(1), int64(4), object(22)\n",
      "memory usage: 4.9+ MB\n"
     ]
    }
   ],
   "source": [
    "df_lesionesHechos.info()"
   ]
  }
 ],
 "metadata": {
  "kernelspec": {
   "display_name": "venv",
   "language": "python",
   "name": "python3"
  },
  "language_info": {
   "codemirror_mode": {
    "name": "ipython",
    "version": 3
   },
   "file_extension": ".py",
   "mimetype": "text/x-python",
   "name": "python",
   "nbconvert_exporter": "python",
   "pygments_lexer": "ipython3",
   "version": "3.12.3"
  }
 },
 "nbformat": 4,
 "nbformat_minor": 2
}
